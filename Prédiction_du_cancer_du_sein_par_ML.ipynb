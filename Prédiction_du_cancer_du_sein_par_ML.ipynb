{
  "nbformat": 4,
  "nbformat_minor": 0,
  "metadata": {
    "colab": {
      "name": "Prédiction du cancer du sein par ML.ipynb",
      "provenance": [],
      "collapsed_sections": [],
      "authorship_tag": "ABX9TyPKGruA+KVDs+jGIc5Kngzj",
      "include_colab_link": true
    },
    "kernelspec": {
      "name": "python3",
      "display_name": "Python 3"
    },
    "language_info": {
      "name": "python"
    }
  },
  "cells": [
    {
      "cell_type": "markdown",
      "metadata": {
        "id": "view-in-github",
        "colab_type": "text"
      },
      "source": [
        "<a href=\"https://colab.research.google.com/github/GaoIzoo/AI-DEPLOYMENT/blob/main/Pr%C3%A9diction_du_cancer_du_sein_par_ML.ipynb\" target=\"_parent\"><img src=\"https://colab.research.google.com/assets/colab-badge.svg\" alt=\"Open In Colab\"/></a>"
      ]
    },
    {
      "cell_type": "markdown",
      "source": [
        "# 1. Prédiction du cancer du  sein par machine learning"
      ],
      "metadata": {
        "id": "1n3qWaygvggZ"
      }
    },
    {
      "cell_type": "markdown",
      "source": [
        "À propos de l'ensemble de données\n",
        "\n",
        "Les caractéristiques sont calculées à partir d'une image numérisée d'une aspiration à l'aiguille fine (FNA) d'une masse mammaire. Elles décrivent les caractéristiques des noyaux cellulaires présents dans l'image.\n",
        "n l'espace tridimensionnel est celui décrit dans : [K. P. Bennett et O. L. Mangasarian : \"Robust Linear Programming Discrimination of Two Linearly Inseparable Sets\", Optimization Methods and Software 1, 1992, 23-34].\n",
        "\n",
        "Cette base de données est également disponible sur le site:\n",
        "ftp ftp.cs.wisc.edu cd math-prog/cpo-dataset/machine-learn/WDBC/\n",
        "\n",
        "Également disponible sur le dépôt d'apprentissage automatique de l'UCI : https://archive.ics.uci.edu/ml/datasets/Breast+Cancer+Wisconsin+%28Diagnostic%29\n",
        "\n",
        "Informations sur les variables :\n",
        "\n",
        "1) Numéro d'identification\n",
        "2) Diagnostic (M = malin, B = bénin)\n",
        "3-32)\n",
        "\n",
        "Dix caractéristiques à valeur réelle sont calculées pour chaque noyau cellulaire :\n",
        "\n",
        "a) le rayon (moyenne des distances entre le centre et les points du périmètre)\n",
        "b) texture (écart-type des valeurs de l'échelle de gris)\n",
        "c) périmètre\n",
        "d) surface\n",
        "e) régularité (variation locale des longueurs de rayon)\n",
        "f) compacité (périmètre^2 / surface - 1,0)\n",
        "g) concavité (sévérité des parties concaves du contour)\n",
        "h) points concaves (nombre de portions concaves du contour)\n",
        "i) la symétrie\n",
        "j) dimension fractale (\"approximation du trait de côte\" - 1)\n",
        "\n",
        "La moyenne, l'erreur standard ou la plus grande (moyenne des trois plus grandes valeurs) de ces caractéristiques ont été calculées.\n",
        "plus grandes valeurs) de ces caractéristiques ont été calculées pour chaque image,\n",
        "ce qui donne 30 caractéristiques. Par exemple, le champ 3 est le Rayon moyen, le champ 13 est le rayon SE, le champ 23 est le rayon le plus mauvais.\n",
        "\n",
        "Toutes les valeurs des caractéristiques sont recodées avec quatre chiffres significatifs.\n",
        "\n",
        "Valeurs d'attributs manquantes : aucune\n",
        "\n",
        "Distribution des classes : 357 bénignes, 212 malignes\n",
        "\n",
        "Traduit avec www.DeepL.com/Translator (version gratuite)"
      ],
      "metadata": {
        "id": "lXIY_E2OvshK"
      }
    },
    {
      "cell_type": "markdown",
      "source": [
        "# 2. Importation des packages"
      ],
      "metadata": {
        "id": "XMNhkLl5w4wZ"
      }
    },
    {
      "cell_type": "code",
      "source": [
        "import numpy as np \n",
        "import pandas as pd \n",
        "\n",
        "import matplotlib.pyplot as plt \n",
        "import seaborn as sns \n",
        "import missingno as msno\n",
        "\n",
        "import warnings\n",
        "warnings.filterwarnings(\"ignore\") \n",
        "\n",
        "#Pour la construction des différents modèles de ML\n",
        "from sklearn.model_selection import train_test_split\n",
        "from sklearn.preprocessing import MinMaxScaler, Normalizer\n",
        "from sklearn.metrics import accuracy_score\n",
        "from sklearn.metrics import confusion_matrix\n",
        "from sklearn.preprocessing import StandardScaler\n",
        "from sklearn.linear_model import LogisticRegression\n",
        "from sklearn.neighbors import KNeighborsClassifier\n",
        "from sklearn.svm import SVC\n",
        "from sklearn.tree import DecisionTreeClassifier\n",
        "from sklearn.ensemble import RandomForestClassifier\n",
        "from sklearn.ensemble import GradientBoostingClassifier\n",
        "from sklearn.ensemble import AdaBoostClassifier\n",
        "import xgboost as xg"
      ],
      "metadata": {
        "id": "V3cNGCBGw_MV"
      },
      "execution_count": 4,
      "outputs": []
    },
    {
      "cell_type": "markdown",
      "source": [
        "# 3. Exploration de la base de donnée"
      ],
      "metadata": {
        "id": "so8Knckhxjh0"
      }
    },
    {
      "cell_type": "markdown",
      "source": [
        "**3.1) Importation de la base**"
      ],
      "metadata": {
        "id": "IzqYxjr1xszp"
      }
    },
    {
      "cell_type": "code",
      "source": [
        "# importation de la base data.csv\n",
        "import pandas as pd\n",
        "df = pd.read_csv ('/content/data.csv',  sep=',')\n",
        "df.head()"
      ],
      "metadata": {
        "colab": {
          "base_uri": "https://localhost:8080/",
          "height": 317
        },
        "id": "wMBLM3pNxyiV",
        "outputId": "885383ff-04f5-4da5-a347-6f73681dce93"
      },
      "execution_count": 5,
      "outputs": [
        {
          "output_type": "execute_result",
          "data": {
            "text/plain": [
              "         id diagnosis  radius_mean  texture_mean  perimeter_mean  area_mean  \\\n",
              "0    842302         M        17.99         10.38          122.80     1001.0   \n",
              "1    842517         M        20.57         17.77          132.90     1326.0   \n",
              "2  84300903         M        19.69         21.25          130.00     1203.0   \n",
              "3  84348301         M        11.42         20.38           77.58      386.1   \n",
              "4  84358402         M        20.29         14.34          135.10     1297.0   \n",
              "\n",
              "   smoothness_mean  compactness_mean  concavity_mean  concave points_mean  \\\n",
              "0          0.11840           0.27760          0.3001              0.14710   \n",
              "1          0.08474           0.07864          0.0869              0.07017   \n",
              "2          0.10960           0.15990          0.1974              0.12790   \n",
              "3          0.14250           0.28390          0.2414              0.10520   \n",
              "4          0.10030           0.13280          0.1980              0.10430   \n",
              "\n",
              "   ...  texture_worst  perimeter_worst  area_worst  smoothness_worst  \\\n",
              "0  ...          17.33           184.60      2019.0            0.1622   \n",
              "1  ...          23.41           158.80      1956.0            0.1238   \n",
              "2  ...          25.53           152.50      1709.0            0.1444   \n",
              "3  ...          26.50            98.87       567.7            0.2098   \n",
              "4  ...          16.67           152.20      1575.0            0.1374   \n",
              "\n",
              "   compactness_worst  concavity_worst  concave points_worst  symmetry_worst  \\\n",
              "0             0.6656           0.7119                0.2654          0.4601   \n",
              "1             0.1866           0.2416                0.1860          0.2750   \n",
              "2             0.4245           0.4504                0.2430          0.3613   \n",
              "3             0.8663           0.6869                0.2575          0.6638   \n",
              "4             0.2050           0.4000                0.1625          0.2364   \n",
              "\n",
              "   fractal_dimension_worst  Unnamed: 32  \n",
              "0                  0.11890          NaN  \n",
              "1                  0.08902          NaN  \n",
              "2                  0.08758          NaN  \n",
              "3                  0.17300          NaN  \n",
              "4                  0.07678          NaN  \n",
              "\n",
              "[5 rows x 33 columns]"
            ],
            "text/html": [
              "\n",
              "  <div id=\"df-5624bd06-4b68-4fd2-875c-6aea6b4a433d\">\n",
              "    <div class=\"colab-df-container\">\n",
              "      <div>\n",
              "<style scoped>\n",
              "    .dataframe tbody tr th:only-of-type {\n",
              "        vertical-align: middle;\n",
              "    }\n",
              "\n",
              "    .dataframe tbody tr th {\n",
              "        vertical-align: top;\n",
              "    }\n",
              "\n",
              "    .dataframe thead th {\n",
              "        text-align: right;\n",
              "    }\n",
              "</style>\n",
              "<table border=\"1\" class=\"dataframe\">\n",
              "  <thead>\n",
              "    <tr style=\"text-align: right;\">\n",
              "      <th></th>\n",
              "      <th>id</th>\n",
              "      <th>diagnosis</th>\n",
              "      <th>radius_mean</th>\n",
              "      <th>texture_mean</th>\n",
              "      <th>perimeter_mean</th>\n",
              "      <th>area_mean</th>\n",
              "      <th>smoothness_mean</th>\n",
              "      <th>compactness_mean</th>\n",
              "      <th>concavity_mean</th>\n",
              "      <th>concave points_mean</th>\n",
              "      <th>...</th>\n",
              "      <th>texture_worst</th>\n",
              "      <th>perimeter_worst</th>\n",
              "      <th>area_worst</th>\n",
              "      <th>smoothness_worst</th>\n",
              "      <th>compactness_worst</th>\n",
              "      <th>concavity_worst</th>\n",
              "      <th>concave points_worst</th>\n",
              "      <th>symmetry_worst</th>\n",
              "      <th>fractal_dimension_worst</th>\n",
              "      <th>Unnamed: 32</th>\n",
              "    </tr>\n",
              "  </thead>\n",
              "  <tbody>\n",
              "    <tr>\n",
              "      <th>0</th>\n",
              "      <td>842302</td>\n",
              "      <td>M</td>\n",
              "      <td>17.99</td>\n",
              "      <td>10.38</td>\n",
              "      <td>122.80</td>\n",
              "      <td>1001.0</td>\n",
              "      <td>0.11840</td>\n",
              "      <td>0.27760</td>\n",
              "      <td>0.3001</td>\n",
              "      <td>0.14710</td>\n",
              "      <td>...</td>\n",
              "      <td>17.33</td>\n",
              "      <td>184.60</td>\n",
              "      <td>2019.0</td>\n",
              "      <td>0.1622</td>\n",
              "      <td>0.6656</td>\n",
              "      <td>0.7119</td>\n",
              "      <td>0.2654</td>\n",
              "      <td>0.4601</td>\n",
              "      <td>0.11890</td>\n",
              "      <td>NaN</td>\n",
              "    </tr>\n",
              "    <tr>\n",
              "      <th>1</th>\n",
              "      <td>842517</td>\n",
              "      <td>M</td>\n",
              "      <td>20.57</td>\n",
              "      <td>17.77</td>\n",
              "      <td>132.90</td>\n",
              "      <td>1326.0</td>\n",
              "      <td>0.08474</td>\n",
              "      <td>0.07864</td>\n",
              "      <td>0.0869</td>\n",
              "      <td>0.07017</td>\n",
              "      <td>...</td>\n",
              "      <td>23.41</td>\n",
              "      <td>158.80</td>\n",
              "      <td>1956.0</td>\n",
              "      <td>0.1238</td>\n",
              "      <td>0.1866</td>\n",
              "      <td>0.2416</td>\n",
              "      <td>0.1860</td>\n",
              "      <td>0.2750</td>\n",
              "      <td>0.08902</td>\n",
              "      <td>NaN</td>\n",
              "    </tr>\n",
              "    <tr>\n",
              "      <th>2</th>\n",
              "      <td>84300903</td>\n",
              "      <td>M</td>\n",
              "      <td>19.69</td>\n",
              "      <td>21.25</td>\n",
              "      <td>130.00</td>\n",
              "      <td>1203.0</td>\n",
              "      <td>0.10960</td>\n",
              "      <td>0.15990</td>\n",
              "      <td>0.1974</td>\n",
              "      <td>0.12790</td>\n",
              "      <td>...</td>\n",
              "      <td>25.53</td>\n",
              "      <td>152.50</td>\n",
              "      <td>1709.0</td>\n",
              "      <td>0.1444</td>\n",
              "      <td>0.4245</td>\n",
              "      <td>0.4504</td>\n",
              "      <td>0.2430</td>\n",
              "      <td>0.3613</td>\n",
              "      <td>0.08758</td>\n",
              "      <td>NaN</td>\n",
              "    </tr>\n",
              "    <tr>\n",
              "      <th>3</th>\n",
              "      <td>84348301</td>\n",
              "      <td>M</td>\n",
              "      <td>11.42</td>\n",
              "      <td>20.38</td>\n",
              "      <td>77.58</td>\n",
              "      <td>386.1</td>\n",
              "      <td>0.14250</td>\n",
              "      <td>0.28390</td>\n",
              "      <td>0.2414</td>\n",
              "      <td>0.10520</td>\n",
              "      <td>...</td>\n",
              "      <td>26.50</td>\n",
              "      <td>98.87</td>\n",
              "      <td>567.7</td>\n",
              "      <td>0.2098</td>\n",
              "      <td>0.8663</td>\n",
              "      <td>0.6869</td>\n",
              "      <td>0.2575</td>\n",
              "      <td>0.6638</td>\n",
              "      <td>0.17300</td>\n",
              "      <td>NaN</td>\n",
              "    </tr>\n",
              "    <tr>\n",
              "      <th>4</th>\n",
              "      <td>84358402</td>\n",
              "      <td>M</td>\n",
              "      <td>20.29</td>\n",
              "      <td>14.34</td>\n",
              "      <td>135.10</td>\n",
              "      <td>1297.0</td>\n",
              "      <td>0.10030</td>\n",
              "      <td>0.13280</td>\n",
              "      <td>0.1980</td>\n",
              "      <td>0.10430</td>\n",
              "      <td>...</td>\n",
              "      <td>16.67</td>\n",
              "      <td>152.20</td>\n",
              "      <td>1575.0</td>\n",
              "      <td>0.1374</td>\n",
              "      <td>0.2050</td>\n",
              "      <td>0.4000</td>\n",
              "      <td>0.1625</td>\n",
              "      <td>0.2364</td>\n",
              "      <td>0.07678</td>\n",
              "      <td>NaN</td>\n",
              "    </tr>\n",
              "  </tbody>\n",
              "</table>\n",
              "<p>5 rows × 33 columns</p>\n",
              "</div>\n",
              "      <button class=\"colab-df-convert\" onclick=\"convertToInteractive('df-5624bd06-4b68-4fd2-875c-6aea6b4a433d')\"\n",
              "              title=\"Convert this dataframe to an interactive table.\"\n",
              "              style=\"display:none;\">\n",
              "        \n",
              "  <svg xmlns=\"http://www.w3.org/2000/svg\" height=\"24px\"viewBox=\"0 0 24 24\"\n",
              "       width=\"24px\">\n",
              "    <path d=\"M0 0h24v24H0V0z\" fill=\"none\"/>\n",
              "    <path d=\"M18.56 5.44l.94 2.06.94-2.06 2.06-.94-2.06-.94-.94-2.06-.94 2.06-2.06.94zm-11 1L8.5 8.5l.94-2.06 2.06-.94-2.06-.94L8.5 2.5l-.94 2.06-2.06.94zm10 10l.94 2.06.94-2.06 2.06-.94-2.06-.94-.94-2.06-.94 2.06-2.06.94z\"/><path d=\"M17.41 7.96l-1.37-1.37c-.4-.4-.92-.59-1.43-.59-.52 0-1.04.2-1.43.59L10.3 9.45l-7.72 7.72c-.78.78-.78 2.05 0 2.83L4 21.41c.39.39.9.59 1.41.59.51 0 1.02-.2 1.41-.59l7.78-7.78 2.81-2.81c.8-.78.8-2.07 0-2.86zM5.41 20L4 18.59l7.72-7.72 1.47 1.35L5.41 20z\"/>\n",
              "  </svg>\n",
              "      </button>\n",
              "      \n",
              "  <style>\n",
              "    .colab-df-container {\n",
              "      display:flex;\n",
              "      flex-wrap:wrap;\n",
              "      gap: 12px;\n",
              "    }\n",
              "\n",
              "    .colab-df-convert {\n",
              "      background-color: #E8F0FE;\n",
              "      border: none;\n",
              "      border-radius: 50%;\n",
              "      cursor: pointer;\n",
              "      display: none;\n",
              "      fill: #1967D2;\n",
              "      height: 32px;\n",
              "      padding: 0 0 0 0;\n",
              "      width: 32px;\n",
              "    }\n",
              "\n",
              "    .colab-df-convert:hover {\n",
              "      background-color: #E2EBFA;\n",
              "      box-shadow: 0px 1px 2px rgba(60, 64, 67, 0.3), 0px 1px 3px 1px rgba(60, 64, 67, 0.15);\n",
              "      fill: #174EA6;\n",
              "    }\n",
              "\n",
              "    [theme=dark] .colab-df-convert {\n",
              "      background-color: #3B4455;\n",
              "      fill: #D2E3FC;\n",
              "    }\n",
              "\n",
              "    [theme=dark] .colab-df-convert:hover {\n",
              "      background-color: #434B5C;\n",
              "      box-shadow: 0px 1px 3px 1px rgba(0, 0, 0, 0.15);\n",
              "      filter: drop-shadow(0px 1px 2px rgba(0, 0, 0, 0.3));\n",
              "      fill: #FFFFFF;\n",
              "    }\n",
              "  </style>\n",
              "\n",
              "      <script>\n",
              "        const buttonEl =\n",
              "          document.querySelector('#df-5624bd06-4b68-4fd2-875c-6aea6b4a433d button.colab-df-convert');\n",
              "        buttonEl.style.display =\n",
              "          google.colab.kernel.accessAllowed ? 'block' : 'none';\n",
              "\n",
              "        async function convertToInteractive(key) {\n",
              "          const element = document.querySelector('#df-5624bd06-4b68-4fd2-875c-6aea6b4a433d');\n",
              "          const dataTable =\n",
              "            await google.colab.kernel.invokeFunction('convertToInteractive',\n",
              "                                                     [key], {});\n",
              "          if (!dataTable) return;\n",
              "\n",
              "          const docLinkHtml = 'Like what you see? Visit the ' +\n",
              "            '<a target=\"_blank\" href=https://colab.research.google.com/notebooks/data_table.ipynb>data table notebook</a>'\n",
              "            + ' to learn more about interactive tables.';\n",
              "          element.innerHTML = '';\n",
              "          dataTable['output_type'] = 'display_data';\n",
              "          await google.colab.output.renderOutput(dataTable, element);\n",
              "          const docLink = document.createElement('div');\n",
              "          docLink.innerHTML = docLinkHtml;\n",
              "          element.appendChild(docLink);\n",
              "        }\n",
              "      </script>\n",
              "    </div>\n",
              "  </div>\n",
              "  "
            ]
          },
          "metadata": {},
          "execution_count": 5
        }
      ]
    },
    {
      "cell_type": "code",
      "source": [
        "print(\"La base de données sur le cancer comprend \", df.shape)"
      ],
      "metadata": {
        "colab": {
          "base_uri": "https://localhost:8080/"
        },
        "id": "DT_TEj1vyVqj",
        "outputId": "df5f0ae0-61d4-4a3d-c027-e1b1e71d402e"
      },
      "execution_count": 6,
      "outputs": [
        {
          "output_type": "stream",
          "name": "stdout",
          "text": [
            "La base de données sur le cancer comprend  (569, 33)\n"
          ]
        }
      ]
    },
    {
      "cell_type": "markdown",
      "source": [
        "**Suppression de la variable unnamed 32 qui ne comporte que des variables manquantes**"
      ],
      "metadata": {
        "id": "sR_m7rRHzAC1"
      }
    },
    {
      "cell_type": "code",
      "source": [
        "# suppression de la colonne \"id\" et \"Unnamed: 32\"\n",
        "df = df.drop(df.columns[[0,32]], axis=1)\n",
        "df.head(30)"
      ],
      "metadata": {
        "colab": {
          "base_uri": "https://localhost:8080/",
          "height": 1000
        },
        "id": "3z5g0jiuzLva",
        "outputId": "a0a5eec3-c668-4da8-8e99-30f16d93a14b"
      },
      "execution_count": 7,
      "outputs": [
        {
          "output_type": "execute_result",
          "data": {
            "text/plain": [
              "   diagnosis  radius_mean  texture_mean  perimeter_mean  area_mean  \\\n",
              "0          M       17.990         10.38          122.80     1001.0   \n",
              "1          M       20.570         17.77          132.90     1326.0   \n",
              "2          M       19.690         21.25          130.00     1203.0   \n",
              "3          M       11.420         20.38           77.58      386.1   \n",
              "4          M       20.290         14.34          135.10     1297.0   \n",
              "5          M       12.450         15.70           82.57      477.1   \n",
              "6          M       18.250         19.98          119.60     1040.0   \n",
              "7          M       13.710         20.83           90.20      577.9   \n",
              "8          M       13.000         21.82           87.50      519.8   \n",
              "9          M       12.460         24.04           83.97      475.9   \n",
              "10         M       16.020         23.24          102.70      797.8   \n",
              "11         M       15.780         17.89          103.60      781.0   \n",
              "12         M       19.170         24.80          132.40     1123.0   \n",
              "13         M       15.850         23.95          103.70      782.7   \n",
              "14         M       13.730         22.61           93.60      578.3   \n",
              "15         M       14.540         27.54           96.73      658.8   \n",
              "16         M       14.680         20.13           94.74      684.5   \n",
              "17         M       16.130         20.68          108.10      798.8   \n",
              "18         M       19.810         22.15          130.00     1260.0   \n",
              "19         B       13.540         14.36           87.46      566.3   \n",
              "20         B       13.080         15.71           85.63      520.0   \n",
              "21         B        9.504         12.44           60.34      273.9   \n",
              "22         M       15.340         14.26          102.50      704.4   \n",
              "23         M       21.160         23.04          137.20     1404.0   \n",
              "24         M       16.650         21.38          110.00      904.6   \n",
              "25         M       17.140         16.40          116.00      912.7   \n",
              "26         M       14.580         21.53           97.41      644.8   \n",
              "27         M       18.610         20.25          122.10     1094.0   \n",
              "28         M       15.300         25.27          102.40      732.4   \n",
              "29         M       17.570         15.05          115.00      955.1   \n",
              "\n",
              "    smoothness_mean  compactness_mean  concavity_mean  concave points_mean  \\\n",
              "0           0.11840           0.27760         0.30010              0.14710   \n",
              "1           0.08474           0.07864         0.08690              0.07017   \n",
              "2           0.10960           0.15990         0.19740              0.12790   \n",
              "3           0.14250           0.28390         0.24140              0.10520   \n",
              "4           0.10030           0.13280         0.19800              0.10430   \n",
              "5           0.12780           0.17000         0.15780              0.08089   \n",
              "6           0.09463           0.10900         0.11270              0.07400   \n",
              "7           0.11890           0.16450         0.09366              0.05985   \n",
              "8           0.12730           0.19320         0.18590              0.09353   \n",
              "9           0.11860           0.23960         0.22730              0.08543   \n",
              "10          0.08206           0.06669         0.03299              0.03323   \n",
              "11          0.09710           0.12920         0.09954              0.06606   \n",
              "12          0.09740           0.24580         0.20650              0.11180   \n",
              "13          0.08401           0.10020         0.09938              0.05364   \n",
              "14          0.11310           0.22930         0.21280              0.08025   \n",
              "15          0.11390           0.15950         0.16390              0.07364   \n",
              "16          0.09867           0.07200         0.07395              0.05259   \n",
              "17          0.11700           0.20220         0.17220              0.10280   \n",
              "18          0.09831           0.10270         0.14790              0.09498   \n",
              "19          0.09779           0.08129         0.06664              0.04781   \n",
              "20          0.10750           0.12700         0.04568              0.03110   \n",
              "21          0.10240           0.06492         0.02956              0.02076   \n",
              "22          0.10730           0.21350         0.20770              0.09756   \n",
              "23          0.09428           0.10220         0.10970              0.08632   \n",
              "24          0.11210           0.14570         0.15250              0.09170   \n",
              "25          0.11860           0.22760         0.22290              0.14010   \n",
              "26          0.10540           0.18680         0.14250              0.08783   \n",
              "27          0.09440           0.10660         0.14900              0.07731   \n",
              "28          0.10820           0.16970         0.16830              0.08751   \n",
              "29          0.09847           0.11570         0.09875              0.07953   \n",
              "\n",
              "    symmetry_mean  ...  radius_worst  texture_worst  perimeter_worst  \\\n",
              "0          0.2419  ...         25.38          17.33           184.60   \n",
              "1          0.1812  ...         24.99          23.41           158.80   \n",
              "2          0.2069  ...         23.57          25.53           152.50   \n",
              "3          0.2597  ...         14.91          26.50            98.87   \n",
              "4          0.1809  ...         22.54          16.67           152.20   \n",
              "5          0.2087  ...         15.47          23.75           103.40   \n",
              "6          0.1794  ...         22.88          27.66           153.20   \n",
              "7          0.2196  ...         17.06          28.14           110.60   \n",
              "8          0.2350  ...         15.49          30.73           106.20   \n",
              "9          0.2030  ...         15.09          40.68            97.65   \n",
              "10         0.1528  ...         19.19          33.88           123.80   \n",
              "11         0.1842  ...         20.42          27.28           136.50   \n",
              "12         0.2397  ...         20.96          29.94           151.70   \n",
              "13         0.1847  ...         16.84          27.66           112.00   \n",
              "14         0.2069  ...         15.03          32.01           108.80   \n",
              "15         0.2303  ...         17.46          37.13           124.10   \n",
              "16         0.1586  ...         19.07          30.88           123.40   \n",
              "17         0.2164  ...         20.96          31.48           136.80   \n",
              "18         0.1582  ...         27.32          30.88           186.80   \n",
              "19         0.1885  ...         15.11          19.26            99.70   \n",
              "20         0.1967  ...         14.50          20.49            96.09   \n",
              "21         0.1815  ...         10.23          15.66            65.13   \n",
              "22         0.2521  ...         18.07          19.08           125.10   \n",
              "23         0.1769  ...         29.17          35.59           188.00   \n",
              "24         0.1995  ...         26.46          31.56           177.00   \n",
              "25         0.3040  ...         22.25          21.40           152.40   \n",
              "26         0.2252  ...         17.62          33.21           122.40   \n",
              "27         0.1697  ...         21.31          27.26           139.90   \n",
              "28         0.1926  ...         20.27          36.71           149.30   \n",
              "29         0.1739  ...         20.01          19.52           134.90   \n",
              "\n",
              "    area_worst  smoothness_worst  compactness_worst  concavity_worst  \\\n",
              "0       2019.0            0.1622             0.6656          0.71190   \n",
              "1       1956.0            0.1238             0.1866          0.24160   \n",
              "2       1709.0            0.1444             0.4245          0.45040   \n",
              "3        567.7            0.2098             0.8663          0.68690   \n",
              "4       1575.0            0.1374             0.2050          0.40000   \n",
              "5        741.6            0.1791             0.5249          0.53550   \n",
              "6       1606.0            0.1442             0.2576          0.37840   \n",
              "7        897.0            0.1654             0.3682          0.26780   \n",
              "8        739.3            0.1703             0.5401          0.53900   \n",
              "9        711.4            0.1853             1.0580          1.10500   \n",
              "10      1150.0            0.1181             0.1551          0.14590   \n",
              "11      1299.0            0.1396             0.5609          0.39650   \n",
              "12      1332.0            0.1037             0.3903          0.36390   \n",
              "13       876.5            0.1131             0.1924          0.23220   \n",
              "14       697.7            0.1651             0.7725          0.69430   \n",
              "15       943.2            0.1678             0.6577          0.70260   \n",
              "16      1138.0            0.1464             0.1871          0.29140   \n",
              "17      1315.0            0.1789             0.4233          0.47840   \n",
              "18      2398.0            0.1512             0.3150          0.53720   \n",
              "19       711.2            0.1440             0.1773          0.23900   \n",
              "20       630.5            0.1312             0.2776          0.18900   \n",
              "21       314.9            0.1324             0.1148          0.08867   \n",
              "22       980.9            0.1390             0.5954          0.63050   \n",
              "23      2615.0            0.1401             0.2600          0.31550   \n",
              "24      2215.0            0.1805             0.3578          0.46950   \n",
              "25      1461.0            0.1545             0.3949          0.38530   \n",
              "26       896.9            0.1525             0.6643          0.55390   \n",
              "27      1403.0            0.1338             0.2117          0.34460   \n",
              "28      1269.0            0.1641             0.6110          0.63350   \n",
              "29      1227.0            0.1255             0.2812          0.24890   \n",
              "\n",
              "    concave points_worst  symmetry_worst  fractal_dimension_worst  \n",
              "0                0.26540          0.4601                  0.11890  \n",
              "1                0.18600          0.2750                  0.08902  \n",
              "2                0.24300          0.3613                  0.08758  \n",
              "3                0.25750          0.6638                  0.17300  \n",
              "4                0.16250          0.2364                  0.07678  \n",
              "5                0.17410          0.3985                  0.12440  \n",
              "6                0.19320          0.3063                  0.08368  \n",
              "7                0.15560          0.3196                  0.11510  \n",
              "8                0.20600          0.4378                  0.10720  \n",
              "9                0.22100          0.4366                  0.20750  \n",
              "10               0.09975          0.2948                  0.08452  \n",
              "11               0.18100          0.3792                  0.10480  \n",
              "12               0.17670          0.3176                  0.10230  \n",
              "13               0.11190          0.2809                  0.06287  \n",
              "14               0.22080          0.3596                  0.14310  \n",
              "15               0.17120          0.4218                  0.13410  \n",
              "16               0.16090          0.3029                  0.08216  \n",
              "17               0.20730          0.3706                  0.11420  \n",
              "18               0.23880          0.2768                  0.07615  \n",
              "19               0.12880          0.2977                  0.07259  \n",
              "20               0.07283          0.3184                  0.08183  \n",
              "21               0.06227          0.2450                  0.07773  \n",
              "22               0.23930          0.4667                  0.09946  \n",
              "23               0.20090          0.2822                  0.07526  \n",
              "24               0.20950          0.3613                  0.09564  \n",
              "25               0.25500          0.4066                  0.10590  \n",
              "26               0.27010          0.4264                  0.12750  \n",
              "27               0.14900          0.2341                  0.07421  \n",
              "28               0.20240          0.4027                  0.09876  \n",
              "29               0.14560          0.2756                  0.07919  \n",
              "\n",
              "[30 rows x 31 columns]"
            ],
            "text/html": [
              "\n",
              "  <div id=\"df-4a17dd73-ff90-437d-9f1b-f0592660f48f\">\n",
              "    <div class=\"colab-df-container\">\n",
              "      <div>\n",
              "<style scoped>\n",
              "    .dataframe tbody tr th:only-of-type {\n",
              "        vertical-align: middle;\n",
              "    }\n",
              "\n",
              "    .dataframe tbody tr th {\n",
              "        vertical-align: top;\n",
              "    }\n",
              "\n",
              "    .dataframe thead th {\n",
              "        text-align: right;\n",
              "    }\n",
              "</style>\n",
              "<table border=\"1\" class=\"dataframe\">\n",
              "  <thead>\n",
              "    <tr style=\"text-align: right;\">\n",
              "      <th></th>\n",
              "      <th>diagnosis</th>\n",
              "      <th>radius_mean</th>\n",
              "      <th>texture_mean</th>\n",
              "      <th>perimeter_mean</th>\n",
              "      <th>area_mean</th>\n",
              "      <th>smoothness_mean</th>\n",
              "      <th>compactness_mean</th>\n",
              "      <th>concavity_mean</th>\n",
              "      <th>concave points_mean</th>\n",
              "      <th>symmetry_mean</th>\n",
              "      <th>...</th>\n",
              "      <th>radius_worst</th>\n",
              "      <th>texture_worst</th>\n",
              "      <th>perimeter_worst</th>\n",
              "      <th>area_worst</th>\n",
              "      <th>smoothness_worst</th>\n",
              "      <th>compactness_worst</th>\n",
              "      <th>concavity_worst</th>\n",
              "      <th>concave points_worst</th>\n",
              "      <th>symmetry_worst</th>\n",
              "      <th>fractal_dimension_worst</th>\n",
              "    </tr>\n",
              "  </thead>\n",
              "  <tbody>\n",
              "    <tr>\n",
              "      <th>0</th>\n",
              "      <td>M</td>\n",
              "      <td>17.990</td>\n",
              "      <td>10.38</td>\n",
              "      <td>122.80</td>\n",
              "      <td>1001.0</td>\n",
              "      <td>0.11840</td>\n",
              "      <td>0.27760</td>\n",
              "      <td>0.30010</td>\n",
              "      <td>0.14710</td>\n",
              "      <td>0.2419</td>\n",
              "      <td>...</td>\n",
              "      <td>25.38</td>\n",
              "      <td>17.33</td>\n",
              "      <td>184.60</td>\n",
              "      <td>2019.0</td>\n",
              "      <td>0.1622</td>\n",
              "      <td>0.6656</td>\n",
              "      <td>0.71190</td>\n",
              "      <td>0.26540</td>\n",
              "      <td>0.4601</td>\n",
              "      <td>0.11890</td>\n",
              "    </tr>\n",
              "    <tr>\n",
              "      <th>1</th>\n",
              "      <td>M</td>\n",
              "      <td>20.570</td>\n",
              "      <td>17.77</td>\n",
              "      <td>132.90</td>\n",
              "      <td>1326.0</td>\n",
              "      <td>0.08474</td>\n",
              "      <td>0.07864</td>\n",
              "      <td>0.08690</td>\n",
              "      <td>0.07017</td>\n",
              "      <td>0.1812</td>\n",
              "      <td>...</td>\n",
              "      <td>24.99</td>\n",
              "      <td>23.41</td>\n",
              "      <td>158.80</td>\n",
              "      <td>1956.0</td>\n",
              "      <td>0.1238</td>\n",
              "      <td>0.1866</td>\n",
              "      <td>0.24160</td>\n",
              "      <td>0.18600</td>\n",
              "      <td>0.2750</td>\n",
              "      <td>0.08902</td>\n",
              "    </tr>\n",
              "    <tr>\n",
              "      <th>2</th>\n",
              "      <td>M</td>\n",
              "      <td>19.690</td>\n",
              "      <td>21.25</td>\n",
              "      <td>130.00</td>\n",
              "      <td>1203.0</td>\n",
              "      <td>0.10960</td>\n",
              "      <td>0.15990</td>\n",
              "      <td>0.19740</td>\n",
              "      <td>0.12790</td>\n",
              "      <td>0.2069</td>\n",
              "      <td>...</td>\n",
              "      <td>23.57</td>\n",
              "      <td>25.53</td>\n",
              "      <td>152.50</td>\n",
              "      <td>1709.0</td>\n",
              "      <td>0.1444</td>\n",
              "      <td>0.4245</td>\n",
              "      <td>0.45040</td>\n",
              "      <td>0.24300</td>\n",
              "      <td>0.3613</td>\n",
              "      <td>0.08758</td>\n",
              "    </tr>\n",
              "    <tr>\n",
              "      <th>3</th>\n",
              "      <td>M</td>\n",
              "      <td>11.420</td>\n",
              "      <td>20.38</td>\n",
              "      <td>77.58</td>\n",
              "      <td>386.1</td>\n",
              "      <td>0.14250</td>\n",
              "      <td>0.28390</td>\n",
              "      <td>0.24140</td>\n",
              "      <td>0.10520</td>\n",
              "      <td>0.2597</td>\n",
              "      <td>...</td>\n",
              "      <td>14.91</td>\n",
              "      <td>26.50</td>\n",
              "      <td>98.87</td>\n",
              "      <td>567.7</td>\n",
              "      <td>0.2098</td>\n",
              "      <td>0.8663</td>\n",
              "      <td>0.68690</td>\n",
              "      <td>0.25750</td>\n",
              "      <td>0.6638</td>\n",
              "      <td>0.17300</td>\n",
              "    </tr>\n",
              "    <tr>\n",
              "      <th>4</th>\n",
              "      <td>M</td>\n",
              "      <td>20.290</td>\n",
              "      <td>14.34</td>\n",
              "      <td>135.10</td>\n",
              "      <td>1297.0</td>\n",
              "      <td>0.10030</td>\n",
              "      <td>0.13280</td>\n",
              "      <td>0.19800</td>\n",
              "      <td>0.10430</td>\n",
              "      <td>0.1809</td>\n",
              "      <td>...</td>\n",
              "      <td>22.54</td>\n",
              "      <td>16.67</td>\n",
              "      <td>152.20</td>\n",
              "      <td>1575.0</td>\n",
              "      <td>0.1374</td>\n",
              "      <td>0.2050</td>\n",
              "      <td>0.40000</td>\n",
              "      <td>0.16250</td>\n",
              "      <td>0.2364</td>\n",
              "      <td>0.07678</td>\n",
              "    </tr>\n",
              "    <tr>\n",
              "      <th>5</th>\n",
              "      <td>M</td>\n",
              "      <td>12.450</td>\n",
              "      <td>15.70</td>\n",
              "      <td>82.57</td>\n",
              "      <td>477.1</td>\n",
              "      <td>0.12780</td>\n",
              "      <td>0.17000</td>\n",
              "      <td>0.15780</td>\n",
              "      <td>0.08089</td>\n",
              "      <td>0.2087</td>\n",
              "      <td>...</td>\n",
              "      <td>15.47</td>\n",
              "      <td>23.75</td>\n",
              "      <td>103.40</td>\n",
              "      <td>741.6</td>\n",
              "      <td>0.1791</td>\n",
              "      <td>0.5249</td>\n",
              "      <td>0.53550</td>\n",
              "      <td>0.17410</td>\n",
              "      <td>0.3985</td>\n",
              "      <td>0.12440</td>\n",
              "    </tr>\n",
              "    <tr>\n",
              "      <th>6</th>\n",
              "      <td>M</td>\n",
              "      <td>18.250</td>\n",
              "      <td>19.98</td>\n",
              "      <td>119.60</td>\n",
              "      <td>1040.0</td>\n",
              "      <td>0.09463</td>\n",
              "      <td>0.10900</td>\n",
              "      <td>0.11270</td>\n",
              "      <td>0.07400</td>\n",
              "      <td>0.1794</td>\n",
              "      <td>...</td>\n",
              "      <td>22.88</td>\n",
              "      <td>27.66</td>\n",
              "      <td>153.20</td>\n",
              "      <td>1606.0</td>\n",
              "      <td>0.1442</td>\n",
              "      <td>0.2576</td>\n",
              "      <td>0.37840</td>\n",
              "      <td>0.19320</td>\n",
              "      <td>0.3063</td>\n",
              "      <td>0.08368</td>\n",
              "    </tr>\n",
              "    <tr>\n",
              "      <th>7</th>\n",
              "      <td>M</td>\n",
              "      <td>13.710</td>\n",
              "      <td>20.83</td>\n",
              "      <td>90.20</td>\n",
              "      <td>577.9</td>\n",
              "      <td>0.11890</td>\n",
              "      <td>0.16450</td>\n",
              "      <td>0.09366</td>\n",
              "      <td>0.05985</td>\n",
              "      <td>0.2196</td>\n",
              "      <td>...</td>\n",
              "      <td>17.06</td>\n",
              "      <td>28.14</td>\n",
              "      <td>110.60</td>\n",
              "      <td>897.0</td>\n",
              "      <td>0.1654</td>\n",
              "      <td>0.3682</td>\n",
              "      <td>0.26780</td>\n",
              "      <td>0.15560</td>\n",
              "      <td>0.3196</td>\n",
              "      <td>0.11510</td>\n",
              "    </tr>\n",
              "    <tr>\n",
              "      <th>8</th>\n",
              "      <td>M</td>\n",
              "      <td>13.000</td>\n",
              "      <td>21.82</td>\n",
              "      <td>87.50</td>\n",
              "      <td>519.8</td>\n",
              "      <td>0.12730</td>\n",
              "      <td>0.19320</td>\n",
              "      <td>0.18590</td>\n",
              "      <td>0.09353</td>\n",
              "      <td>0.2350</td>\n",
              "      <td>...</td>\n",
              "      <td>15.49</td>\n",
              "      <td>30.73</td>\n",
              "      <td>106.20</td>\n",
              "      <td>739.3</td>\n",
              "      <td>0.1703</td>\n",
              "      <td>0.5401</td>\n",
              "      <td>0.53900</td>\n",
              "      <td>0.20600</td>\n",
              "      <td>0.4378</td>\n",
              "      <td>0.10720</td>\n",
              "    </tr>\n",
              "    <tr>\n",
              "      <th>9</th>\n",
              "      <td>M</td>\n",
              "      <td>12.460</td>\n",
              "      <td>24.04</td>\n",
              "      <td>83.97</td>\n",
              "      <td>475.9</td>\n",
              "      <td>0.11860</td>\n",
              "      <td>0.23960</td>\n",
              "      <td>0.22730</td>\n",
              "      <td>0.08543</td>\n",
              "      <td>0.2030</td>\n",
              "      <td>...</td>\n",
              "      <td>15.09</td>\n",
              "      <td>40.68</td>\n",
              "      <td>97.65</td>\n",
              "      <td>711.4</td>\n",
              "      <td>0.1853</td>\n",
              "      <td>1.0580</td>\n",
              "      <td>1.10500</td>\n",
              "      <td>0.22100</td>\n",
              "      <td>0.4366</td>\n",
              "      <td>0.20750</td>\n",
              "    </tr>\n",
              "    <tr>\n",
              "      <th>10</th>\n",
              "      <td>M</td>\n",
              "      <td>16.020</td>\n",
              "      <td>23.24</td>\n",
              "      <td>102.70</td>\n",
              "      <td>797.8</td>\n",
              "      <td>0.08206</td>\n",
              "      <td>0.06669</td>\n",
              "      <td>0.03299</td>\n",
              "      <td>0.03323</td>\n",
              "      <td>0.1528</td>\n",
              "      <td>...</td>\n",
              "      <td>19.19</td>\n",
              "      <td>33.88</td>\n",
              "      <td>123.80</td>\n",
              "      <td>1150.0</td>\n",
              "      <td>0.1181</td>\n",
              "      <td>0.1551</td>\n",
              "      <td>0.14590</td>\n",
              "      <td>0.09975</td>\n",
              "      <td>0.2948</td>\n",
              "      <td>0.08452</td>\n",
              "    </tr>\n",
              "    <tr>\n",
              "      <th>11</th>\n",
              "      <td>M</td>\n",
              "      <td>15.780</td>\n",
              "      <td>17.89</td>\n",
              "      <td>103.60</td>\n",
              "      <td>781.0</td>\n",
              "      <td>0.09710</td>\n",
              "      <td>0.12920</td>\n",
              "      <td>0.09954</td>\n",
              "      <td>0.06606</td>\n",
              "      <td>0.1842</td>\n",
              "      <td>...</td>\n",
              "      <td>20.42</td>\n",
              "      <td>27.28</td>\n",
              "      <td>136.50</td>\n",
              "      <td>1299.0</td>\n",
              "      <td>0.1396</td>\n",
              "      <td>0.5609</td>\n",
              "      <td>0.39650</td>\n",
              "      <td>0.18100</td>\n",
              "      <td>0.3792</td>\n",
              "      <td>0.10480</td>\n",
              "    </tr>\n",
              "    <tr>\n",
              "      <th>12</th>\n",
              "      <td>M</td>\n",
              "      <td>19.170</td>\n",
              "      <td>24.80</td>\n",
              "      <td>132.40</td>\n",
              "      <td>1123.0</td>\n",
              "      <td>0.09740</td>\n",
              "      <td>0.24580</td>\n",
              "      <td>0.20650</td>\n",
              "      <td>0.11180</td>\n",
              "      <td>0.2397</td>\n",
              "      <td>...</td>\n",
              "      <td>20.96</td>\n",
              "      <td>29.94</td>\n",
              "      <td>151.70</td>\n",
              "      <td>1332.0</td>\n",
              "      <td>0.1037</td>\n",
              "      <td>0.3903</td>\n",
              "      <td>0.36390</td>\n",
              "      <td>0.17670</td>\n",
              "      <td>0.3176</td>\n",
              "      <td>0.10230</td>\n",
              "    </tr>\n",
              "    <tr>\n",
              "      <th>13</th>\n",
              "      <td>M</td>\n",
              "      <td>15.850</td>\n",
              "      <td>23.95</td>\n",
              "      <td>103.70</td>\n",
              "      <td>782.7</td>\n",
              "      <td>0.08401</td>\n",
              "      <td>0.10020</td>\n",
              "      <td>0.09938</td>\n",
              "      <td>0.05364</td>\n",
              "      <td>0.1847</td>\n",
              "      <td>...</td>\n",
              "      <td>16.84</td>\n",
              "      <td>27.66</td>\n",
              "      <td>112.00</td>\n",
              "      <td>876.5</td>\n",
              "      <td>0.1131</td>\n",
              "      <td>0.1924</td>\n",
              "      <td>0.23220</td>\n",
              "      <td>0.11190</td>\n",
              "      <td>0.2809</td>\n",
              "      <td>0.06287</td>\n",
              "    </tr>\n",
              "    <tr>\n",
              "      <th>14</th>\n",
              "      <td>M</td>\n",
              "      <td>13.730</td>\n",
              "      <td>22.61</td>\n",
              "      <td>93.60</td>\n",
              "      <td>578.3</td>\n",
              "      <td>0.11310</td>\n",
              "      <td>0.22930</td>\n",
              "      <td>0.21280</td>\n",
              "      <td>0.08025</td>\n",
              "      <td>0.2069</td>\n",
              "      <td>...</td>\n",
              "      <td>15.03</td>\n",
              "      <td>32.01</td>\n",
              "      <td>108.80</td>\n",
              "      <td>697.7</td>\n",
              "      <td>0.1651</td>\n",
              "      <td>0.7725</td>\n",
              "      <td>0.69430</td>\n",
              "      <td>0.22080</td>\n",
              "      <td>0.3596</td>\n",
              "      <td>0.14310</td>\n",
              "    </tr>\n",
              "    <tr>\n",
              "      <th>15</th>\n",
              "      <td>M</td>\n",
              "      <td>14.540</td>\n",
              "      <td>27.54</td>\n",
              "      <td>96.73</td>\n",
              "      <td>658.8</td>\n",
              "      <td>0.11390</td>\n",
              "      <td>0.15950</td>\n",
              "      <td>0.16390</td>\n",
              "      <td>0.07364</td>\n",
              "      <td>0.2303</td>\n",
              "      <td>...</td>\n",
              "      <td>17.46</td>\n",
              "      <td>37.13</td>\n",
              "      <td>124.10</td>\n",
              "      <td>943.2</td>\n",
              "      <td>0.1678</td>\n",
              "      <td>0.6577</td>\n",
              "      <td>0.70260</td>\n",
              "      <td>0.17120</td>\n",
              "      <td>0.4218</td>\n",
              "      <td>0.13410</td>\n",
              "    </tr>\n",
              "    <tr>\n",
              "      <th>16</th>\n",
              "      <td>M</td>\n",
              "      <td>14.680</td>\n",
              "      <td>20.13</td>\n",
              "      <td>94.74</td>\n",
              "      <td>684.5</td>\n",
              "      <td>0.09867</td>\n",
              "      <td>0.07200</td>\n",
              "      <td>0.07395</td>\n",
              "      <td>0.05259</td>\n",
              "      <td>0.1586</td>\n",
              "      <td>...</td>\n",
              "      <td>19.07</td>\n",
              "      <td>30.88</td>\n",
              "      <td>123.40</td>\n",
              "      <td>1138.0</td>\n",
              "      <td>0.1464</td>\n",
              "      <td>0.1871</td>\n",
              "      <td>0.29140</td>\n",
              "      <td>0.16090</td>\n",
              "      <td>0.3029</td>\n",
              "      <td>0.08216</td>\n",
              "    </tr>\n",
              "    <tr>\n",
              "      <th>17</th>\n",
              "      <td>M</td>\n",
              "      <td>16.130</td>\n",
              "      <td>20.68</td>\n",
              "      <td>108.10</td>\n",
              "      <td>798.8</td>\n",
              "      <td>0.11700</td>\n",
              "      <td>0.20220</td>\n",
              "      <td>0.17220</td>\n",
              "      <td>0.10280</td>\n",
              "      <td>0.2164</td>\n",
              "      <td>...</td>\n",
              "      <td>20.96</td>\n",
              "      <td>31.48</td>\n",
              "      <td>136.80</td>\n",
              "      <td>1315.0</td>\n",
              "      <td>0.1789</td>\n",
              "      <td>0.4233</td>\n",
              "      <td>0.47840</td>\n",
              "      <td>0.20730</td>\n",
              "      <td>0.3706</td>\n",
              "      <td>0.11420</td>\n",
              "    </tr>\n",
              "    <tr>\n",
              "      <th>18</th>\n",
              "      <td>M</td>\n",
              "      <td>19.810</td>\n",
              "      <td>22.15</td>\n",
              "      <td>130.00</td>\n",
              "      <td>1260.0</td>\n",
              "      <td>0.09831</td>\n",
              "      <td>0.10270</td>\n",
              "      <td>0.14790</td>\n",
              "      <td>0.09498</td>\n",
              "      <td>0.1582</td>\n",
              "      <td>...</td>\n",
              "      <td>27.32</td>\n",
              "      <td>30.88</td>\n",
              "      <td>186.80</td>\n",
              "      <td>2398.0</td>\n",
              "      <td>0.1512</td>\n",
              "      <td>0.3150</td>\n",
              "      <td>0.53720</td>\n",
              "      <td>0.23880</td>\n",
              "      <td>0.2768</td>\n",
              "      <td>0.07615</td>\n",
              "    </tr>\n",
              "    <tr>\n",
              "      <th>19</th>\n",
              "      <td>B</td>\n",
              "      <td>13.540</td>\n",
              "      <td>14.36</td>\n",
              "      <td>87.46</td>\n",
              "      <td>566.3</td>\n",
              "      <td>0.09779</td>\n",
              "      <td>0.08129</td>\n",
              "      <td>0.06664</td>\n",
              "      <td>0.04781</td>\n",
              "      <td>0.1885</td>\n",
              "      <td>...</td>\n",
              "      <td>15.11</td>\n",
              "      <td>19.26</td>\n",
              "      <td>99.70</td>\n",
              "      <td>711.2</td>\n",
              "      <td>0.1440</td>\n",
              "      <td>0.1773</td>\n",
              "      <td>0.23900</td>\n",
              "      <td>0.12880</td>\n",
              "      <td>0.2977</td>\n",
              "      <td>0.07259</td>\n",
              "    </tr>\n",
              "    <tr>\n",
              "      <th>20</th>\n",
              "      <td>B</td>\n",
              "      <td>13.080</td>\n",
              "      <td>15.71</td>\n",
              "      <td>85.63</td>\n",
              "      <td>520.0</td>\n",
              "      <td>0.10750</td>\n",
              "      <td>0.12700</td>\n",
              "      <td>0.04568</td>\n",
              "      <td>0.03110</td>\n",
              "      <td>0.1967</td>\n",
              "      <td>...</td>\n",
              "      <td>14.50</td>\n",
              "      <td>20.49</td>\n",
              "      <td>96.09</td>\n",
              "      <td>630.5</td>\n",
              "      <td>0.1312</td>\n",
              "      <td>0.2776</td>\n",
              "      <td>0.18900</td>\n",
              "      <td>0.07283</td>\n",
              "      <td>0.3184</td>\n",
              "      <td>0.08183</td>\n",
              "    </tr>\n",
              "    <tr>\n",
              "      <th>21</th>\n",
              "      <td>B</td>\n",
              "      <td>9.504</td>\n",
              "      <td>12.44</td>\n",
              "      <td>60.34</td>\n",
              "      <td>273.9</td>\n",
              "      <td>0.10240</td>\n",
              "      <td>0.06492</td>\n",
              "      <td>0.02956</td>\n",
              "      <td>0.02076</td>\n",
              "      <td>0.1815</td>\n",
              "      <td>...</td>\n",
              "      <td>10.23</td>\n",
              "      <td>15.66</td>\n",
              "      <td>65.13</td>\n",
              "      <td>314.9</td>\n",
              "      <td>0.1324</td>\n",
              "      <td>0.1148</td>\n",
              "      <td>0.08867</td>\n",
              "      <td>0.06227</td>\n",
              "      <td>0.2450</td>\n",
              "      <td>0.07773</td>\n",
              "    </tr>\n",
              "    <tr>\n",
              "      <th>22</th>\n",
              "      <td>M</td>\n",
              "      <td>15.340</td>\n",
              "      <td>14.26</td>\n",
              "      <td>102.50</td>\n",
              "      <td>704.4</td>\n",
              "      <td>0.10730</td>\n",
              "      <td>0.21350</td>\n",
              "      <td>0.20770</td>\n",
              "      <td>0.09756</td>\n",
              "      <td>0.2521</td>\n",
              "      <td>...</td>\n",
              "      <td>18.07</td>\n",
              "      <td>19.08</td>\n",
              "      <td>125.10</td>\n",
              "      <td>980.9</td>\n",
              "      <td>0.1390</td>\n",
              "      <td>0.5954</td>\n",
              "      <td>0.63050</td>\n",
              "      <td>0.23930</td>\n",
              "      <td>0.4667</td>\n",
              "      <td>0.09946</td>\n",
              "    </tr>\n",
              "    <tr>\n",
              "      <th>23</th>\n",
              "      <td>M</td>\n",
              "      <td>21.160</td>\n",
              "      <td>23.04</td>\n",
              "      <td>137.20</td>\n",
              "      <td>1404.0</td>\n",
              "      <td>0.09428</td>\n",
              "      <td>0.10220</td>\n",
              "      <td>0.10970</td>\n",
              "      <td>0.08632</td>\n",
              "      <td>0.1769</td>\n",
              "      <td>...</td>\n",
              "      <td>29.17</td>\n",
              "      <td>35.59</td>\n",
              "      <td>188.00</td>\n",
              "      <td>2615.0</td>\n",
              "      <td>0.1401</td>\n",
              "      <td>0.2600</td>\n",
              "      <td>0.31550</td>\n",
              "      <td>0.20090</td>\n",
              "      <td>0.2822</td>\n",
              "      <td>0.07526</td>\n",
              "    </tr>\n",
              "    <tr>\n",
              "      <th>24</th>\n",
              "      <td>M</td>\n",
              "      <td>16.650</td>\n",
              "      <td>21.38</td>\n",
              "      <td>110.00</td>\n",
              "      <td>904.6</td>\n",
              "      <td>0.11210</td>\n",
              "      <td>0.14570</td>\n",
              "      <td>0.15250</td>\n",
              "      <td>0.09170</td>\n",
              "      <td>0.1995</td>\n",
              "      <td>...</td>\n",
              "      <td>26.46</td>\n",
              "      <td>31.56</td>\n",
              "      <td>177.00</td>\n",
              "      <td>2215.0</td>\n",
              "      <td>0.1805</td>\n",
              "      <td>0.3578</td>\n",
              "      <td>0.46950</td>\n",
              "      <td>0.20950</td>\n",
              "      <td>0.3613</td>\n",
              "      <td>0.09564</td>\n",
              "    </tr>\n",
              "    <tr>\n",
              "      <th>25</th>\n",
              "      <td>M</td>\n",
              "      <td>17.140</td>\n",
              "      <td>16.40</td>\n",
              "      <td>116.00</td>\n",
              "      <td>912.7</td>\n",
              "      <td>0.11860</td>\n",
              "      <td>0.22760</td>\n",
              "      <td>0.22290</td>\n",
              "      <td>0.14010</td>\n",
              "      <td>0.3040</td>\n",
              "      <td>...</td>\n",
              "      <td>22.25</td>\n",
              "      <td>21.40</td>\n",
              "      <td>152.40</td>\n",
              "      <td>1461.0</td>\n",
              "      <td>0.1545</td>\n",
              "      <td>0.3949</td>\n",
              "      <td>0.38530</td>\n",
              "      <td>0.25500</td>\n",
              "      <td>0.4066</td>\n",
              "      <td>0.10590</td>\n",
              "    </tr>\n",
              "    <tr>\n",
              "      <th>26</th>\n",
              "      <td>M</td>\n",
              "      <td>14.580</td>\n",
              "      <td>21.53</td>\n",
              "      <td>97.41</td>\n",
              "      <td>644.8</td>\n",
              "      <td>0.10540</td>\n",
              "      <td>0.18680</td>\n",
              "      <td>0.14250</td>\n",
              "      <td>0.08783</td>\n",
              "      <td>0.2252</td>\n",
              "      <td>...</td>\n",
              "      <td>17.62</td>\n",
              "      <td>33.21</td>\n",
              "      <td>122.40</td>\n",
              "      <td>896.9</td>\n",
              "      <td>0.1525</td>\n",
              "      <td>0.6643</td>\n",
              "      <td>0.55390</td>\n",
              "      <td>0.27010</td>\n",
              "      <td>0.4264</td>\n",
              "      <td>0.12750</td>\n",
              "    </tr>\n",
              "    <tr>\n",
              "      <th>27</th>\n",
              "      <td>M</td>\n",
              "      <td>18.610</td>\n",
              "      <td>20.25</td>\n",
              "      <td>122.10</td>\n",
              "      <td>1094.0</td>\n",
              "      <td>0.09440</td>\n",
              "      <td>0.10660</td>\n",
              "      <td>0.14900</td>\n",
              "      <td>0.07731</td>\n",
              "      <td>0.1697</td>\n",
              "      <td>...</td>\n",
              "      <td>21.31</td>\n",
              "      <td>27.26</td>\n",
              "      <td>139.90</td>\n",
              "      <td>1403.0</td>\n",
              "      <td>0.1338</td>\n",
              "      <td>0.2117</td>\n",
              "      <td>0.34460</td>\n",
              "      <td>0.14900</td>\n",
              "      <td>0.2341</td>\n",
              "      <td>0.07421</td>\n",
              "    </tr>\n",
              "    <tr>\n",
              "      <th>28</th>\n",
              "      <td>M</td>\n",
              "      <td>15.300</td>\n",
              "      <td>25.27</td>\n",
              "      <td>102.40</td>\n",
              "      <td>732.4</td>\n",
              "      <td>0.10820</td>\n",
              "      <td>0.16970</td>\n",
              "      <td>0.16830</td>\n",
              "      <td>0.08751</td>\n",
              "      <td>0.1926</td>\n",
              "      <td>...</td>\n",
              "      <td>20.27</td>\n",
              "      <td>36.71</td>\n",
              "      <td>149.30</td>\n",
              "      <td>1269.0</td>\n",
              "      <td>0.1641</td>\n",
              "      <td>0.6110</td>\n",
              "      <td>0.63350</td>\n",
              "      <td>0.20240</td>\n",
              "      <td>0.4027</td>\n",
              "      <td>0.09876</td>\n",
              "    </tr>\n",
              "    <tr>\n",
              "      <th>29</th>\n",
              "      <td>M</td>\n",
              "      <td>17.570</td>\n",
              "      <td>15.05</td>\n",
              "      <td>115.00</td>\n",
              "      <td>955.1</td>\n",
              "      <td>0.09847</td>\n",
              "      <td>0.11570</td>\n",
              "      <td>0.09875</td>\n",
              "      <td>0.07953</td>\n",
              "      <td>0.1739</td>\n",
              "      <td>...</td>\n",
              "      <td>20.01</td>\n",
              "      <td>19.52</td>\n",
              "      <td>134.90</td>\n",
              "      <td>1227.0</td>\n",
              "      <td>0.1255</td>\n",
              "      <td>0.2812</td>\n",
              "      <td>0.24890</td>\n",
              "      <td>0.14560</td>\n",
              "      <td>0.2756</td>\n",
              "      <td>0.07919</td>\n",
              "    </tr>\n",
              "  </tbody>\n",
              "</table>\n",
              "<p>30 rows × 31 columns</p>\n",
              "</div>\n",
              "      <button class=\"colab-df-convert\" onclick=\"convertToInteractive('df-4a17dd73-ff90-437d-9f1b-f0592660f48f')\"\n",
              "              title=\"Convert this dataframe to an interactive table.\"\n",
              "              style=\"display:none;\">\n",
              "        \n",
              "  <svg xmlns=\"http://www.w3.org/2000/svg\" height=\"24px\"viewBox=\"0 0 24 24\"\n",
              "       width=\"24px\">\n",
              "    <path d=\"M0 0h24v24H0V0z\" fill=\"none\"/>\n",
              "    <path d=\"M18.56 5.44l.94 2.06.94-2.06 2.06-.94-2.06-.94-.94-2.06-.94 2.06-2.06.94zm-11 1L8.5 8.5l.94-2.06 2.06-.94-2.06-.94L8.5 2.5l-.94 2.06-2.06.94zm10 10l.94 2.06.94-2.06 2.06-.94-2.06-.94-.94-2.06-.94 2.06-2.06.94z\"/><path d=\"M17.41 7.96l-1.37-1.37c-.4-.4-.92-.59-1.43-.59-.52 0-1.04.2-1.43.59L10.3 9.45l-7.72 7.72c-.78.78-.78 2.05 0 2.83L4 21.41c.39.39.9.59 1.41.59.51 0 1.02-.2 1.41-.59l7.78-7.78 2.81-2.81c.8-.78.8-2.07 0-2.86zM5.41 20L4 18.59l7.72-7.72 1.47 1.35L5.41 20z\"/>\n",
              "  </svg>\n",
              "      </button>\n",
              "      \n",
              "  <style>\n",
              "    .colab-df-container {\n",
              "      display:flex;\n",
              "      flex-wrap:wrap;\n",
              "      gap: 12px;\n",
              "    }\n",
              "\n",
              "    .colab-df-convert {\n",
              "      background-color: #E8F0FE;\n",
              "      border: none;\n",
              "      border-radius: 50%;\n",
              "      cursor: pointer;\n",
              "      display: none;\n",
              "      fill: #1967D2;\n",
              "      height: 32px;\n",
              "      padding: 0 0 0 0;\n",
              "      width: 32px;\n",
              "    }\n",
              "\n",
              "    .colab-df-convert:hover {\n",
              "      background-color: #E2EBFA;\n",
              "      box-shadow: 0px 1px 2px rgba(60, 64, 67, 0.3), 0px 1px 3px 1px rgba(60, 64, 67, 0.15);\n",
              "      fill: #174EA6;\n",
              "    }\n",
              "\n",
              "    [theme=dark] .colab-df-convert {\n",
              "      background-color: #3B4455;\n",
              "      fill: #D2E3FC;\n",
              "    }\n",
              "\n",
              "    [theme=dark] .colab-df-convert:hover {\n",
              "      background-color: #434B5C;\n",
              "      box-shadow: 0px 1px 3px 1px rgba(0, 0, 0, 0.15);\n",
              "      filter: drop-shadow(0px 1px 2px rgba(0, 0, 0, 0.3));\n",
              "      fill: #FFFFFF;\n",
              "    }\n",
              "  </style>\n",
              "\n",
              "      <script>\n",
              "        const buttonEl =\n",
              "          document.querySelector('#df-4a17dd73-ff90-437d-9f1b-f0592660f48f button.colab-df-convert');\n",
              "        buttonEl.style.display =\n",
              "          google.colab.kernel.accessAllowed ? 'block' : 'none';\n",
              "\n",
              "        async function convertToInteractive(key) {\n",
              "          const element = document.querySelector('#df-4a17dd73-ff90-437d-9f1b-f0592660f48f');\n",
              "          const dataTable =\n",
              "            await google.colab.kernel.invokeFunction('convertToInteractive',\n",
              "                                                     [key], {});\n",
              "          if (!dataTable) return;\n",
              "\n",
              "          const docLinkHtml = 'Like what you see? Visit the ' +\n",
              "            '<a target=\"_blank\" href=https://colab.research.google.com/notebooks/data_table.ipynb>data table notebook</a>'\n",
              "            + ' to learn more about interactive tables.';\n",
              "          element.innerHTML = '';\n",
              "          dataTable['output_type'] = 'display_data';\n",
              "          await google.colab.output.renderOutput(dataTable, element);\n",
              "          const docLink = document.createElement('div');\n",
              "          docLink.innerHTML = docLinkHtml;\n",
              "          element.appendChild(docLink);\n",
              "        }\n",
              "      </script>\n",
              "    </div>\n",
              "  </div>\n",
              "  "
            ]
          },
          "metadata": {},
          "execution_count": 7
        }
      ]
    },
    {
      "cell_type": "markdown",
      "source": [
        "**3.2) Analysons la variable à expliquer (Diagnostic)**"
      ],
      "metadata": {
        "id": "vdKjbKYez1x8"
      }
    },
    {
      "cell_type": "code",
      "source": [
        "sns.countplot(df['diagnosis'],label=\"Count\")"
      ],
      "metadata": {
        "colab": {
          "base_uri": "https://localhost:8080/",
          "height": 296
        },
        "id": "JF1CGBYg0Emo",
        "outputId": "2bcc81f8-f9d8-433b-9eee-9457c90b5daa"
      },
      "execution_count": 8,
      "outputs": [
        {
          "output_type": "execute_result",
          "data": {
            "text/plain": [
              "<matplotlib.axes._subplots.AxesSubplot at 0x7f6bb2947c90>"
            ]
          },
          "metadata": {},
          "execution_count": 8
        },
        {
          "output_type": "display_data",
          "data": {
            "text/plain": [
              "<Figure size 432x288 with 1 Axes>"
            ],
            "image/png": "[encoded data removed]"
          },
          "metadata": {
            "needs_background": "light"
          }
        }
      ]
    },
    {
      "cell_type": "code",
      "source": [
        "# nombre total de cancéreuse et non cancéreuse\n",
        "df['diagnosis'].value_counts()"
      ],
      "metadata": {
        "colab": {
          "base_uri": "https://localhost:8080/"
        },
        "id": "h858qsRi00tE",
        "outputId": "f0a23c66-7f52-4730-d040-d822b23ad2b9"
      },
      "execution_count": 9,
      "outputs": [
        {
          "output_type": "execute_result",
          "data": {
            "text/plain": [
              "B    357\n",
              "M    212\n",
              "Name: diagnosis, dtype: int64"
            ]
          },
          "metadata": {},
          "execution_count": 9
        }
      ]
    },
    {
      "cell_type": "markdown",
      "source": [
        "On a un nombre plus élévé de cancer de sein benigne que maligne, soit environ 62,7 % et 37,3% de maligne"
      ],
      "metadata": {
        "id": "rMshf_zH2hzg"
      }
    },
    {
      "cell_type": "code",
      "source": [
        "# Valeurs manquantes\n",
        "\n",
        "df.isna().sum()\n",
        "msno.bar(df)"
      ],
      "metadata": {
        "colab": {
          "base_uri": "https://localhost:8080/",
          "height": 550
        },
        "id": "xy5iTlA82msz",
        "outputId": "3063d9f2-e9ab-424f-afbc-f1711612b564"
      },
      "execution_count": 10,
      "outputs": [
        {
          "output_type": "execute_result",
          "data": {
            "text/plain": [
              "<matplotlib.axes._subplots.AxesSubplot at 0x7f6bb283f890>"
            ]
          },
          "metadata": {},
          "execution_count": 10
        },
        {
          "output_type": "display_data",
          "data": {
            "text/plain": [
              "<Figure size 1800x720 with 3 Axes>"
            ],
            "image/png": "[encoded data removed]"
          },
          "metadata": {
            "needs_background": "light"
          }
        }
      ]
    },
    {
      "cell_type": "markdown",
      "source": [
        "Nous n'avons pas de valeurs manquantes dans notre base de données"
      ],
      "metadata": {
        "id": "Tm9qSKol2wIH"
      }
    },
    {
      "cell_type": "markdown",
      "source": [
        "**3.3 Etude la correlation entre les différentes variables**"
      ],
      "metadata": {
        "id": "EFqHtvSo3izD"
      }
    },
    {
      "cell_type": "markdown",
      "source": [
        "Transformation de la variable cible en variable quantitative"
      ],
      "metadata": {
        "id": "J0ZCSxuC4KSp"
      }
    },
    {
      "cell_type": "code",
      "source": [
        "# Graphique de correlation\n",
        "\n",
        "plt.figure(figsize = (20, 12))\n",
        "\n",
        "corr = df.corr()\n",
        "mask = np.triu(np.ones_like(corr, dtype = bool))\n",
        "\n",
        "sns.heatmap(corr, mask = mask, linewidths = 1, annot = True, fmt = \".2f\")\n",
        "plt.show()"
      ],
      "metadata": {
        "colab": {
          "base_uri": "https://localhost:8080/",
          "height": 717
        },
        "id": "_4YXdIdE3q15",
        "outputId": "98259a20-1709-4694-87e5-6b115a9bbb0f"
      },
      "execution_count": 11,
      "outputs": [
        {
          "output_type": "display_data",
          "data": {
            "text/plain": [
              "<Figure size 1440x864 with 2 Axes>"
            ],
            "image/png": "[encoded data removed]"
          },
          "metadata": {
            "needs_background": "light"
          }
        }
      ]
    },
    {
      "cell_type": "markdown",
      "source": [
        "Nous pouvons voir qu'il y a beaucoup de colonnes qui sont très fortement corrélées, ce qui provoque la multicollinéarité. Nous devons donc éliminer les caractéristiques fortement corrélées."
      ],
      "metadata": {
        "id": "oQe65VUl5SyD"
      }
    },
    {
      "cell_type": "code",
      "source": [
        "# removing highly correlated features\n",
        "\n",
        "corr_matrix = df.corr().abs() \n",
        "\n",
        "mask = np.triu(np.ones_like(corr_matrix, dtype = bool))\n",
        "tri_df = corr_matrix.mask(mask)\n",
        "\n",
        "to_drop = [x for x in tri_df.columns if any(tri_df[x] > 0.6)]\n",
        "\n",
        "df = df.drop(to_drop, axis = 1)\n",
        "\n",
        "print(f\"La base de données a été reduit à {df.shape[1]} columns.\")"
      ],
      "metadata": {
        "colab": {
          "base_uri": "https://localhost:8080/"
        },
        "id": "50gIuc9o5Ya_",
        "outputId": "87a4cbcb-bbe3-40ef-f3d0-7938c9cd46d3"
      },
      "execution_count": 12,
      "outputs": [
        {
          "output_type": "stream",
          "name": "stdout",
          "text": [
            "La base de données a été reduit à 9 columns.\n"
          ]
        }
      ]
    },
    {
      "cell_type": "code",
      "source": [
        "df.head()"
      ],
      "metadata": {
        "colab": {
          "base_uri": "https://localhost:8080/",
          "height": 288
        },
        "id": "uKW9DOGC566j",
        "outputId": "48bb6c43-8145-46ed-9e94-d7bef6e8a78f"
      },
      "execution_count": 13,
      "outputs": [
        {
          "output_type": "execute_result",
          "data": {
            "text/plain": [
              "  diagnosis  texture_se  smoothness_se  symmetry_se  fractal_dimension_se  \\\n",
              "0         M      0.9053       0.006399      0.03003              0.006193   \n",
              "1         M      0.7339       0.005225      0.01389              0.003532   \n",
              "2         M      0.7869       0.006150      0.02250              0.004571   \n",
              "3         M      1.1560       0.009110      0.05963              0.009208   \n",
              "4         M      0.7813       0.011490      0.01756              0.005115   \n",
              "\n",
              "   texture_worst  concave points_worst  symmetry_worst  \\\n",
              "0          17.33                0.2654          0.4601   \n",
              "1          23.41                0.1860          0.2750   \n",
              "2          25.53                0.2430          0.3613   \n",
              "3          26.50                0.2575          0.6638   \n",
              "4          16.67                0.1625          0.2364   \n",
              "\n",
              "   fractal_dimension_worst  \n",
              "0                  0.11890  \n",
              "1                  0.08902  \n",
              "2                  0.08758  \n",
              "3                  0.17300  \n",
              "4                  0.07678  "
            ],
            "text/html": [
              "\n",
              "  <div id=\"df-c2077cc1-0596-4a5a-af2a-4faa1b83412d\">\n",
              "    <div class=\"colab-df-container\">\n",
              "      <div>\n",
              "<style scoped>\n",
              "    .dataframe tbody tr th:only-of-type {\n",
              "        vertical-align: middle;\n",
              "    }\n",
              "\n",
              "    .dataframe tbody tr th {\n",
              "        vertical-align: top;\n",
              "    }\n",
              "\n",
              "    .dataframe thead th {\n",
              "        text-align: right;\n",
              "    }\n",
              "</style>\n",
              "<table border=\"1\" class=\"dataframe\">\n",
              "  <thead>\n",
              "    <tr style=\"text-align: right;\">\n",
              "      <th></th>\n",
              "      <th>diagnosis</th>\n",
              "      <th>texture_se</th>\n",
              "      <th>smoothness_se</th>\n",
              "      <th>symmetry_se</th>\n",
              "      <th>fractal_dimension_se</th>\n",
              "      <th>texture_worst</th>\n",
              "      <th>concave points_worst</th>\n",
              "      <th>symmetry_worst</th>\n",
              "      <th>fractal_dimension_worst</th>\n",
              "    </tr>\n",
              "  </thead>\n",
              "  <tbody>\n",
              "    <tr>\n",
              "      <th>0</th>\n",
              "      <td>M</td>\n",
              "      <td>0.9053</td>\n",
              "      <td>0.006399</td>\n",
              "      <td>0.03003</td>\n",
              "      <td>0.006193</td>\n",
              "      <td>17.33</td>\n",
              "      <td>0.2654</td>\n",
              "      <td>0.4601</td>\n",
              "      <td>0.11890</td>\n",
              "    </tr>\n",
              "    <tr>\n",
              "      <th>1</th>\n",
              "      <td>M</td>\n",
              "      <td>0.7339</td>\n",
              "      <td>0.005225</td>\n",
              "      <td>0.01389</td>\n",
              "      <td>0.003532</td>\n",
              "      <td>23.41</td>\n",
              "      <td>0.1860</td>\n",
              "      <td>0.2750</td>\n",
              "      <td>0.08902</td>\n",
              "    </tr>\n",
              "    <tr>\n",
              "      <th>2</th>\n",
              "      <td>M</td>\n",
              "      <td>0.7869</td>\n",
              "      <td>0.006150</td>\n",
              "      <td>0.02250</td>\n",
              "      <td>0.004571</td>\n",
              "      <td>25.53</td>\n",
              "      <td>0.2430</td>\n",
              "      <td>0.3613</td>\n",
              "      <td>0.08758</td>\n",
              "    </tr>\n",
              "    <tr>\n",
              "      <th>3</th>\n",
              "      <td>M</td>\n",
              "      <td>1.1560</td>\n",
              "      <td>0.009110</td>\n",
              "      <td>0.05963</td>\n",
              "      <td>0.009208</td>\n",
              "      <td>26.50</td>\n",
              "      <td>0.2575</td>\n",
              "      <td>0.6638</td>\n",
              "      <td>0.17300</td>\n",
              "    </tr>\n",
              "    <tr>\n",
              "      <th>4</th>\n",
              "      <td>M</td>\n",
              "      <td>0.7813</td>\n",
              "      <td>0.011490</td>\n",
              "      <td>0.01756</td>\n",
              "      <td>0.005115</td>\n",
              "      <td>16.67</td>\n",
              "      <td>0.1625</td>\n",
              "      <td>0.2364</td>\n",
              "      <td>0.07678</td>\n",
              "    </tr>\n",
              "  </tbody>\n",
              "</table>\n",
              "</div>\n",
              "      <button class=\"colab-df-convert\" onclick=\"convertToInteractive('df-c2077cc1-0596-4a5a-af2a-4faa1b83412d')\"\n",
              "              title=\"Convert this dataframe to an interactive table.\"\n",
              "              style=\"display:none;\">\n",
              "        \n",
              "  <svg xmlns=\"http://www.w3.org/2000/svg\" height=\"24px\"viewBox=\"0 0 24 24\"\n",
              "       width=\"24px\">\n",
              "    <path d=\"M0 0h24v24H0V0z\" fill=\"none\"/>\n",
              "    <path d=\"M18.56 5.44l.94 2.06.94-2.06 2.06-.94-2.06-.94-.94-2.06-.94 2.06-2.06.94zm-11 1L8.5 8.5l.94-2.06 2.06-.94-2.06-.94L8.5 2.5l-.94 2.06-2.06.94zm10 10l.94 2.06.94-2.06 2.06-.94-2.06-.94-.94-2.06-.94 2.06-2.06.94z\"/><path d=\"M17.41 7.96l-1.37-1.37c-.4-.4-.92-.59-1.43-.59-.52 0-1.04.2-1.43.59L10.3 9.45l-7.72 7.72c-.78.78-.78 2.05 0 2.83L4 21.41c.39.39.9.59 1.41.59.51 0 1.02-.2 1.41-.59l7.78-7.78 2.81-2.81c.8-.78.8-2.07 0-2.86zM5.41 20L4 18.59l7.72-7.72 1.47 1.35L5.41 20z\"/>\n",
              "  </svg>\n",
              "      </button>\n",
              "      \n",
              "  <style>\n",
              "    .colab-df-container {\n",
              "      display:flex;\n",
              "      flex-wrap:wrap;\n",
              "      gap: 12px;\n",
              "    }\n",
              "\n",
              "    .colab-df-convert {\n",
              "      background-color: #E8F0FE;\n",
              "      border: none;\n",
              "      border-radius: 50%;\n",
              "      cursor: pointer;\n",
              "      display: none;\n",
              "      fill: #1967D2;\n",
              "      height: 32px;\n",
              "      padding: 0 0 0 0;\n",
              "      width: 32px;\n",
              "    }\n",
              "\n",
              "    .colab-df-convert:hover {\n",
              "      background-color: #E2EBFA;\n",
              "      box-shadow: 0px 1px 2px rgba(60, 64, 67, 0.3), 0px 1px 3px 1px rgba(60, 64, 67, 0.15);\n",
              "      fill: #174EA6;\n",
              "    }\n",
              "\n",
              "    [theme=dark] .colab-df-convert {\n",
              "      background-color: #3B4455;\n",
              "      fill: #D2E3FC;\n",
              "    }\n",
              "\n",
              "    [theme=dark] .colab-df-convert:hover {\n",
              "      background-color: #434B5C;\n",
              "      box-shadow: 0px 1px 3px 1px rgba(0, 0, 0, 0.15);\n",
              "      filter: drop-shadow(0px 1px 2px rgba(0, 0, 0, 0.3));\n",
              "      fill: #FFFFFF;\n",
              "    }\n",
              "  </style>\n",
              "\n",
              "      <script>\n",
              "        const buttonEl =\n",
              "          document.querySelector('#df-c2077cc1-0596-4a5a-af2a-4faa1b83412d button.colab-df-convert');\n",
              "        buttonEl.style.display =\n",
              "          google.colab.kernel.accessAllowed ? 'block' : 'none';\n",
              "\n",
              "        async function convertToInteractive(key) {\n",
              "          const element = document.querySelector('#df-c2077cc1-0596-4a5a-af2a-4faa1b83412d');\n",
              "          const dataTable =\n",
              "            await google.colab.kernel.invokeFunction('convertToInteractive',\n",
              "                                                     [key], {});\n",
              "          if (!dataTable) return;\n",
              "\n",
              "          const docLinkHtml = 'Like what you see? Visit the ' +\n",
              "            '<a target=\"_blank\" href=https://colab.research.google.com/notebooks/data_table.ipynb>data table notebook</a>'\n",
              "            + ' to learn more about interactive tables.';\n",
              "          element.innerHTML = '';\n",
              "          dataTable['output_type'] = 'display_data';\n",
              "          await google.colab.output.renderOutput(dataTable, element);\n",
              "          const docLink = document.createElement('div');\n",
              "          docLink.innerHTML = docLinkHtml;\n",
              "          element.appendChild(docLink);\n",
              "        }\n",
              "      </script>\n",
              "    </div>\n",
              "  </div>\n",
              "  "
            ]
          },
          "metadata": {},
          "execution_count": 13
        }
      ]
    },
    {
      "cell_type": "code",
      "source": [
        "# remplaçons M ( cancer maligne ) par 1 et B ( cancer benigne ) par 0 sur la colonne \"diagnosis\"\n",
        "df.diagnosis = df.diagnosis.replace({\"M\":1,\"B\":0})\n",
        "df.head()"
      ],
      "metadata": {
        "colab": {
          "base_uri": "https://localhost:8080/",
          "height": 288
        },
        "id": "MxJXavltRRZ1",
        "outputId": "16ccb8d4-8203-4c9c-8665-3ca5b3630723"
      },
      "execution_count": 14,
      "outputs": [
        {
          "output_type": "execute_result",
          "data": {
            "text/plain": [
              "   diagnosis  texture_se  smoothness_se  symmetry_se  fractal_dimension_se  \\\n",
              "0          1      0.9053       0.006399      0.03003              0.006193   \n",
              "1          1      0.7339       0.005225      0.01389              0.003532   \n",
              "2          1      0.7869       0.006150      0.02250              0.004571   \n",
              "3          1      1.1560       0.009110      0.05963              0.009208   \n",
              "4          1      0.7813       0.011490      0.01756              0.005115   \n",
              "\n",
              "   texture_worst  concave points_worst  symmetry_worst  \\\n",
              "0          17.33                0.2654          0.4601   \n",
              "1          23.41                0.1860          0.2750   \n",
              "2          25.53                0.2430          0.3613   \n",
              "3          26.50                0.2575          0.6638   \n",
              "4          16.67                0.1625          0.2364   \n",
              "\n",
              "   fractal_dimension_worst  \n",
              "0                  0.11890  \n",
              "1                  0.08902  \n",
              "2                  0.08758  \n",
              "3                  0.17300  \n",
              "4                  0.07678  "
            ],
            "text/html": [
              "\n",
              "  <div id=\"df-8c08c16b-86c4-4341-8755-69337275b009\">\n",
              "    <div class=\"colab-df-container\">\n",
              "      <div>\n",
              "<style scoped>\n",
              "    .dataframe tbody tr th:only-of-type {\n",
              "        vertical-align: middle;\n",
              "    }\n",
              "\n",
              "    .dataframe tbody tr th {\n",
              "        vertical-align: top;\n",
              "    }\n",
              "\n",
              "    .dataframe thead th {\n",
              "        text-align: right;\n",
              "    }\n",
              "</style>\n",
              "<table border=\"1\" class=\"dataframe\">\n",
              "  <thead>\n",
              "    <tr style=\"text-align: right;\">\n",
              "      <th></th>\n",
              "      <th>diagnosis</th>\n",
              "      <th>texture_se</th>\n",
              "      <th>smoothness_se</th>\n",
              "      <th>symmetry_se</th>\n",
              "      <th>fractal_dimension_se</th>\n",
              "      <th>texture_worst</th>\n",
              "      <th>concave points_worst</th>\n",
              "      <th>symmetry_worst</th>\n",
              "      <th>fractal_dimension_worst</th>\n",
              "    </tr>\n",
              "  </thead>\n",
              "  <tbody>\n",
              "    <tr>\n",
              "      <th>0</th>\n",
              "      <td>1</td>\n",
              "      <td>0.9053</td>\n",
              "      <td>0.006399</td>\n",
              "      <td>0.03003</td>\n",
              "      <td>0.006193</td>\n",
              "      <td>17.33</td>\n",
              "      <td>0.2654</td>\n",
              "      <td>0.4601</td>\n",
              "      <td>0.11890</td>\n",
              "    </tr>\n",
              "    <tr>\n",
              "      <th>1</th>\n",
              "      <td>1</td>\n",
              "      <td>0.7339</td>\n",
              "      <td>0.005225</td>\n",
              "      <td>0.01389</td>\n",
              "      <td>0.003532</td>\n",
              "      <td>23.41</td>\n",
              "      <td>0.1860</td>\n",
              "      <td>0.2750</td>\n",
              "      <td>0.08902</td>\n",
              "    </tr>\n",
              "    <tr>\n",
              "      <th>2</th>\n",
              "      <td>1</td>\n",
              "      <td>0.7869</td>\n",
              "      <td>0.006150</td>\n",
              "      <td>0.02250</td>\n",
              "      <td>0.004571</td>\n",
              "      <td>25.53</td>\n",
              "      <td>0.2430</td>\n",
              "      <td>0.3613</td>\n",
              "      <td>0.08758</td>\n",
              "    </tr>\n",
              "    <tr>\n",
              "      <th>3</th>\n",
              "      <td>1</td>\n",
              "      <td>1.1560</td>\n",
              "      <td>0.009110</td>\n",
              "      <td>0.05963</td>\n",
              "      <td>0.009208</td>\n",
              "      <td>26.50</td>\n",
              "      <td>0.2575</td>\n",
              "      <td>0.6638</td>\n",
              "      <td>0.17300</td>\n",
              "    </tr>\n",
              "    <tr>\n",
              "      <th>4</th>\n",
              "      <td>1</td>\n",
              "      <td>0.7813</td>\n",
              "      <td>0.011490</td>\n",
              "      <td>0.01756</td>\n",
              "      <td>0.005115</td>\n",
              "      <td>16.67</td>\n",
              "      <td>0.1625</td>\n",
              "      <td>0.2364</td>\n",
              "      <td>0.07678</td>\n",
              "    </tr>\n",
              "  </tbody>\n",
              "</table>\n",
              "</div>\n",
              "      <button class=\"colab-df-convert\" onclick=\"convertToInteractive('df-8c08c16b-86c4-4341-8755-69337275b009')\"\n",
              "              title=\"Convert this dataframe to an interactive table.\"\n",
              "              style=\"display:none;\">\n",
              "        \n",
              "  <svg xmlns=\"http://www.w3.org/2000/svg\" height=\"24px\"viewBox=\"0 0 24 24\"\n",
              "       width=\"24px\">\n",
              "    <path d=\"M0 0h24v24H0V0z\" fill=\"none\"/>\n",
              "    <path d=\"M18.56 5.44l.94 2.06.94-2.06 2.06-.94-2.06-.94-.94-2.06-.94 2.06-2.06.94zm-11 1L8.5 8.5l.94-2.06 2.06-.94-2.06-.94L8.5 2.5l-.94 2.06-2.06.94zm10 10l.94 2.06.94-2.06 2.06-.94-2.06-.94-.94-2.06-.94 2.06-2.06.94z\"/><path d=\"M17.41 7.96l-1.37-1.37c-.4-.4-.92-.59-1.43-.59-.52 0-1.04.2-1.43.59L10.3 9.45l-7.72 7.72c-.78.78-.78 2.05 0 2.83L4 21.41c.39.39.9.59 1.41.59.51 0 1.02-.2 1.41-.59l7.78-7.78 2.81-2.81c.8-.78.8-2.07 0-2.86zM5.41 20L4 18.59l7.72-7.72 1.47 1.35L5.41 20z\"/>\n",
              "  </svg>\n",
              "      </button>\n",
              "      \n",
              "  <style>\n",
              "    .colab-df-container {\n",
              "      display:flex;\n",
              "      flex-wrap:wrap;\n",
              "      gap: 12px;\n",
              "    }\n",
              "\n",
              "    .colab-df-convert {\n",
              "      background-color: #E8F0FE;\n",
              "      border: none;\n",
              "      border-radius: 50%;\n",
              "      cursor: pointer;\n",
              "      display: none;\n",
              "      fill: #1967D2;\n",
              "      height: 32px;\n",
              "      padding: 0 0 0 0;\n",
              "      width: 32px;\n",
              "    }\n",
              "\n",
              "    .colab-df-convert:hover {\n",
              "      background-color: #E2EBFA;\n",
              "      box-shadow: 0px 1px 2px rgba(60, 64, 67, 0.3), 0px 1px 3px 1px rgba(60, 64, 67, 0.15);\n",
              "      fill: #174EA6;\n",
              "    }\n",
              "\n",
              "    [theme=dark] .colab-df-convert {\n",
              "      background-color: #3B4455;\n",
              "      fill: #D2E3FC;\n",
              "    }\n",
              "\n",
              "    [theme=dark] .colab-df-convert:hover {\n",
              "      background-color: #434B5C;\n",
              "      box-shadow: 0px 1px 3px 1px rgba(0, 0, 0, 0.15);\n",
              "      filter: drop-shadow(0px 1px 2px rgba(0, 0, 0, 0.3));\n",
              "      fill: #FFFFFF;\n",
              "    }\n",
              "  </style>\n",
              "\n",
              "      <script>\n",
              "        const buttonEl =\n",
              "          document.querySelector('#df-8c08c16b-86c4-4341-8755-69337275b009 button.colab-df-convert');\n",
              "        buttonEl.style.display =\n",
              "          google.colab.kernel.accessAllowed ? 'block' : 'none';\n",
              "\n",
              "        async function convertToInteractive(key) {\n",
              "          const element = document.querySelector('#df-8c08c16b-86c4-4341-8755-69337275b009');\n",
              "          const dataTable =\n",
              "            await google.colab.kernel.invokeFunction('convertToInteractive',\n",
              "                                                     [key], {});\n",
              "          if (!dataTable) return;\n",
              "\n",
              "          const docLinkHtml = 'Like what you see? Visit the ' +\n",
              "            '<a target=\"_blank\" href=https://colab.research.google.com/notebooks/data_table.ipynb>data table notebook</a>'\n",
              "            + ' to learn more about interactive tables.';\n",
              "          element.innerHTML = '';\n",
              "          dataTable['output_type'] = 'display_data';\n",
              "          await google.colab.output.renderOutput(dataTable, element);\n",
              "          const docLink = document.createElement('div');\n",
              "          docLink.innerHTML = docLinkHtml;\n",
              "          element.appendChild(docLink);\n",
              "        }\n",
              "      </script>\n",
              "    </div>\n",
              "  </div>\n",
              "  "
            ]
          },
          "metadata": {},
          "execution_count": 14
        }
      ]
    },
    {
      "cell_type": "code",
      "source": [
        "df.to_csv()"
      ],
      "metadata": {
        "colab": {
          "base_uri": "https://localhost:8080/",
          "height": 157
        },
        "id": "OAhmbn0l__CM",
        "outputId": "d908b712-e77b-42ba-fe89-a611d1f4f69f"
      },
      "execution_count": 15,
      "outputs": [
        {
          "output_type": "execute_result",
          "data": {
            "text/plain": [
              "',diagnosis,texture_se,smoothness_se,symmetry_se,fractal_dimension_se,texture_worst,concave points_worst,symmetry_worst,fractal_dimension_worst\\n0,1,0.9053,0.006399,0.03003,0.006193,17.33,0.2654,0.4601,0.1189\\n1,1,0.7339,0.005225,0.01389,0.003532,23.41,0.186,0.275,0.08902\\n2,1,0.7869,0.00615,0.0225,0.004571,25.53,0.243,0.3613,0.08758\\n3,1,1.156,0.00911,0.05963,0.009208,26.5,0.2575,0.6638,0.173\\n4,1,0.7813,0.01149,0.01756,0.005115,16.67,0.1625,0.2364,0.07678\\n5,1,0.8902,0.00751,0.02165,0.005082,23.75,0.1741,0.3985,0.1244\\n6,1,0.7732,0.004314,0.01369,0.002179,27.66,0.1932,0.3063,0.08368\\n7,1,1.377,0.008805,0.01486,0.005412,28.14,0.1556,0.3196,0.1151\\n8,1,1.002,0.005731,0.02143,0.003749,30.73,0.206,0.4378,0.1072\\n9,1,1.599,0.007149,0.01789,0.01008,40.68,0.221,0.4366,0.2075\\n10,1,1.187,0.004029,0.0146,0.003042,33.88,0.09975,0.2948,0.08452\\n11,1,0.9849,0.005771,0.02008,0.004144,27.28,0.181,0.3792,0.1048\\n12,1,3.568,0.003139,0.04484,0.01284,29.94,0.1767,0.3176,0.1023\\n13,1,1.078,0.009769,0.02981,0.003002,27.66,0.1119,0.2809,0.06287\\n14,1,1.169,0.006429,0.01961,0.008093,32.01,0.2208,0.3596,0.1431\\n15,1,1.033,0.005607,0.01857,0.005466,37.13,0.1712,0.4218,0.1341\\n16,1,1.24,0.005718,0.0141,0.002085,30.88,0.1609,0.3029,0.08216\\n17,1,1.073,0.007026,0.01689,0.004142,31.48,0.2073,0.3706,0.1142\\n18,1,1.017,0.006494,0.01356,0.001997,30.88,0.2388,0.2768,0.07615\\n19,0,0.7886,0.008462,0.0198,0.0023,19.26,0.1288,0.2977,0.07259\\n20,0,0.7477,0.004097,0.01678,0.002425,20.49,0.07283,0.3184,0.08183\\n21,0,0.9768,0.009606,0.02027,0.002968,15.66,0.06227,0.245,0.07773\\n22,1,0.7096,0.006789,0.03672,0.004394,19.08,0.2393,0.4667,0.09946\\n23,1,1.127,0.004728,0.01083,0.001987,35.59,0.2009,0.2822,0.07526\\n24,1,0.9017,0.006048,0.01468,0.002801,31.56,0.2095,0.3613,0.09564\\n25,1,0.976,0.008029,0.02308,0.007444,21.4,0.255,0.4066,0.1059\\n26,1,0.9832,0.004452,0.01454,0.003711,33.21,0.2701,0.4264,0.1275\\n27,1,1.849,0.01075,0.02293,0.004217,27.26,0.149,0.2341,0.07421\\n28,1,1.012,0.005233,0.01768,0.002967,36.71,0.2024,0.4027,0.09876\\n29,1,0.8225,0.005627,0.01925,0.003742,19.52,0.1456,0.2756,0.07919\\n30,1,1.466,0.006248,0.02007,0.00456,34.01,0.1848,0.3444,0.09782\\n31,1,1.03,0.005551,0.02273,0.005667,28.12,0.1546,0.4761,0.1402\\n32,1,1.398,0.008268,0.02102,0.003854,32.09,0.1847,0.353,0.08482\\n33,1,0.6062,0.005015,0.01543,0.003896,30.9,0.1785,0.3672,0.1123\\n34,1,0.6857,0.004185,0.01703,0.003817,27.26,0.1864,0.427,0.1233\\n35,1,0.9197,0.005776,0.02789,0.002665,29.02,0.1813,0.4863,0.08633\\n36,1,1.019,0.005878,0.02028,0.004022,30.36,0.1447,0.3591,0.1014\\n37,0,2.342,0.004352,0.02671,0.001777,22.81,0.05013,0.1987,0.06169\\n38,1,2.188,0.006883,0.007882,0.001754,25.2,0.02899,0.1565,0.05504\\n39,1,0.5914,0.005367,0.01377,0.003187,26.02,0.2258,0.2807,0.1071\\n40,1,0.8265,0.00328,0.0138,0.001286,30.25,0.1112,0.2994,0.07146\\n41,1,1.428,0.008064,0.01357,0.00304,35.34,0.1424,0.2964,0.09606\\n42,1,1.666,0.006548,0.05333,0.007646,33.17,0.2493,0.467,0.1038\\n43,1,0.8249,0.005072,0.01719,0.003317,28.0,0.1492,0.3739,0.1027\\n44,1,0.6123,0.00335,0.01113,0.00172,29.89,0.1607,0.3693,0.09618\\n45,1,0.6633,0.006294,0.02428,0.003535,21.32,0.2378,0.3799,0.09185\\n46,0,0.9567,0.008968,0.02574,0.002582,21.96,0.02564,0.3105,0.07409\\n47,1,0.8937,0.006532,0.01743,0.003643,27.95,0.2088,0.39,0.1179\\n48,0,0.7294,0.005488,0.01428,0.002422,20.7,0.06548,0.2747,0.08301\\n49,0,1.353,0.004455,0.01641,0.001956,31.82,0.1282,0.2871,0.06917\\n50,0,1.21,0.005857,0.02406,0.001769,25.72,0.03715,0.2433,0.06563\\n51,0,0.9234,0.004477,0.01325,0.002551,23.19,0.08586,0.2346,0.08025\\n52,0,0.6329,0.00721,0.01996,0.002635,21.33,0.06296,0.2785,0.07408\\n53,1,1.593,0.003899,0.02674,0.005126,24.13,0.1325,0.3021,0.07987\\n54,1,0.8339,0.004675,0.01095,0.001629,31.69,0.153,0.2675,0.07873\\n55,0,0.9591,0.008328,0.03218,0.002386,22.47,0.06316,0.3306,0.07036\\n56,1,1.193,0.006458,0.01852,0.002608,28.14,0.2091,0.3537,0.08294\\n57,1,1.15,0.003659,0.01817,0.004108,30.7,0.1834,0.3698,0.1094\\n58,0,1.214,0.007491,0.0219,0.00299,22.25,0.01111,0.2439,0.06289\\n59,0,0.5796,0.01011,0.0209,0.002788,15.4,0.04419,0.322,0.09026\\n60,0,1.441,0.007514,0.04183,0.005953,17.45,0.02579,0.3557,0.0802\\n61,0,2.067,0.01193,0.03357,0.003048,27.04,0.02778,0.2972,0.07712\\n62,1,1.268,0.009407,0.017,0.006113,29.51,0.1785,0.2844,0.1132\\n63,0,2.265,0.008738,0.04192,0.005822,19.23,0.05087,0.3282,0.0849\\n64,1,1.178,0.007781,0.01635,0.003601,33.47,0.1716,0.3383,0.1031\\n65,1,1.281,0.006703,0.019,0.003224,33.39,0.1614,0.3321,0.08911\\n66,0,2.011,0.01052,0.02279,0.004237,31.56,0.06517,0.2878,0.09211\\n67,0,0.9429,0.009282,0.02183,0.002146,23.84,0.06961,0.24,0.06641\\n68,0,1.194,0.009549,0.04197,0.009559,22.65,0.175,0.4228,0.1175\\n69,0,0.8732,0.007962,0.02254,0.001906,19.76,0.05882,0.2383,0.0641\\n70,1,0.7975,0.004444,0.01386,0.001698,26.58,0.1789,0.2551,0.06589\\n71,0,0.8522,0.01721,0.02541,0.02193,15.67,0.04786,0.2254,0.1084\\n72,1,1.041,0.00582,0.01527,0.006299,33.82,0.1899,0.3313,0.1339\\n73,1,0.6205,0.004717,0.0122,0.00313,20.86,0.1383,0.2589,0.103\\n74,0,1.025,0.004854,0.01386,0.002304,23.21,0.0866,0.2618,0.07609\\n75,1,1.016,0.01082,0.0155,0.001948,24.56,0.152,0.265,0.06387\\n76,0,1.014,0.0134,0.02572,0.006164,12.49,0.07407,0.271,0.07191\\n77,1,0.5505,0.00794,0.02591,0.007054,18.91,0.2102,0.3751,0.1108\\n78,1,1.885,0.01038,0.07895,0.005987,31.72,0.2508,0.544,0.09964\\n79,0,1.095,0.005293,0.01748,0.002848,24.82,0.07926,0.2779,0.07918\\n80,0,2.174,0.01037,0.01816,0.003976,32.16,0.06127,0.2762,0.08851\\n81,0,1.016,0.006794,0.02134,0.004603,23.19,0.1708,0.3527,0.1016\\n82,1,1.474,0.008166,0.01065,0.005893,33.62,0.2867,0.2355,0.1051\\n83,1,2.91,0.007545,0.03056,0.01039,32.72,0.1841,0.2311,0.09203\\n84,0,1.255,0.005969,0.01972,0.002607,24.9,0.07632,0.3379,0.07924\\n85,1,1.475,0.006471,0.0237,0.003755,27.68,0.1642,0.3695,0.08579\\n86,1,2.22,0.009369,0.02418,0.003249,29.25,0.1225,0.302,0.06846\\n87,1,0.6636,0.003872,0.01964,0.003337,30.41,0.1956,0.3956,0.09288\\n88,0,1.502,0.007112,0.01958,0.004463,30.5,0.1205,0.2972,0.09261\\n89,0,0.7372,0.005508,0.02427,0.004841,18.24,0.1397,0.3151,0.08473\\n90,0,1.111,0.004868,0.02085,0.002893,29.11,0.06946,0.2522,0.07246\\n91,1,0.8413,0.009882,0.02471,0.002142,25.84,0.1476,0.2556,0.06828\\n92,0,1.153,0.004481,0.01069,0.001435,22.35,0.1001,0.2027,0.06206\\n93,0,1.373,0.005884,0.01884,0.001817,25.94,0.07911,0.2678,0.06603\\n94,1,0.9644,0.00925,0.01498,0.00352,24.23,0.2115,0.2834,0.08234\\n95,1,1.509,0.006016,0.02657,0.004411,31.59,0.1573,0.3689,0.08368\\n96,0,1.511,0.005433,0.0222,0.003408,20.92,0.05882,0.2227,0.07376\\n97,0,2.043,0.01113,0.01801,0.005667,26.29,0.02381,0.1934,0.08988\\n98,0,0.5391,0.006153,0.01651,0.002551,17.16,0.08449,0.2772,0.08756\\n99,1,1.851,0.008005,0.01462,0.004452,30.86,0.1565,0.2718,0.09353\\n100,1,1.29,0.005872,0.01465,0.002355,35.27,0.1184,0.2651,0.07397\\n101,0,1.508,0.01019,0.02659,0.0041,19.54,0.0,0.2932,0.09382\\n102,0,1.571,0.00508,0.01447,0.001532,32.84,0.07431,0.2694,0.06878\\n103,0,1.222,0.009058,0.01609,0.00357,26.83,0.09749,0.2622,0.0849\\n104,0,1.534,0.007595,0.0271,0.003451,23.31,0.03203,0.2826,0.07552\\n105,1,0.9238,0.007162,0.01547,0.007098,22.4,0.1986,0.3147,0.1405\\n106,0,1.657,0.00854,0.01565,0.00384,29.26,0.1218,0.2806,0.09097\\n107,0,0.8944,0.003457,0.01251,0.001356,27.49,0.08442,0.2983,0.07185\\n108,1,1.545,0.006515,0.03112,0.005037,28.01,0.291,0.4055,0.09789\\n109,0,0.9861,0.009113,0.01568,0.002477,29.15,0.08278,0.2829,0.08832\\n110,0,1.424,0.01385,0.03281,0.004638,21.47,0.05334,0.2533,0.08468\\n111,0,1.803,0.01291,0.02144,0.005891,25.47,0.1105,0.2226,0.08486\\n112,0,1.49,0.005298,0.02566,0.01298,23.73,0.1505,0.2398,0.1082\\n113,0,1.86,0.01188,0.02287,0.006792,22.75,0.06136,0.2383,0.09026\\n114,0,0.5864,0.008261,0.01708,0.003806,19.62,0.105,0.2926,0.1017\\n115,0,0.9227,0.007803,0.01278,0.003856,26.15,0.07247,0.2438,0.08541\\n116,0,0.9789,0.01835,0.02384,0.005601,17.07,0.03846,0.1652,0.07722\\n117,1,0.9489,0.006985,0.01602,0.003884,27.37,0.2027,0.3585,0.1065\\n118,1,1.072,0.008699,0.01495,0.005984,30.5,0.2034,0.3274,0.1252\\n119,1,1.214,0.004024,0.05014,0.001902,27.83,0.1185,0.4882,0.06111\\n120,0,0.4607,0.00604,0.01344,0.002206,15.97,0.08958,0.3016,0.08523\\n121,1,1.581,0.008102,0.02045,0.00457,24.9,0.1674,0.2894,0.08456\\n122,1,3.12,0.02333,0.04547,0.009875,23.99,0.2248,0.3222,0.08009\\n123,0,0.857,0.003818,0.0191,0.002808,15.98,0.1221,0.2889,0.08006\\n124,0,1.14,0.005919,0.01208,0.004076,22.75,0.08978,0.2048,0.07628\\n125,0,0.8561,0.004599,0.01247,0.001708,23.58,0.05104,0.2364,0.07182\\n126,1,1.005,0.004088,0.01323,0.001465,35.64,0.1329,0.347,0.079\\n127,1,1.342,0.004428,0.0203,0.002686,25.73,0.1218,0.2841,0.06541\\n128,0,1.068,0.009006,0.02353,0.004984,18.33,0.1423,0.259,0.07779\\n129,1,1.199,0.005033,0.01578,0.003224,33.58,0.1732,0.3305,0.08465\\n130,0,0.8163,0.006773,0.02662,0.004143,17.81,0.08187,0.3469,0.09241\\n131,1,0.7859,0.00624,0.01397,0.002461,26.0,0.1514,0.2837,0.08019\\n132,1,1.265,0.004877,0.01535,0.002373,31.68,0.1312,0.348,0.07619\\n133,0,0.8155,0.005217,0.01669,0.00233,19.25,0.1374,0.2723,0.07071\\n134,1,1.202,0.006001,0.01492,0.002205,31.39,0.1379,0.3109,0.0761\\n135,1,1.38,0.007499,0.01647,0.002629,33.37,0.09331,0.2829,0.08067\\n136,0,2.508,0.006578,0.01359,0.003707,25.48,0.06968,0.1712,0.07343\\n137,0,0.9938,0.005133,0.01501,0.001588,22.02,0.08476,0.2676,0.06765\\n138,1,1.452,0.01,0.05168,0.002887,21.43,0.1667,0.3414,0.07147\\n139,0,1.343,0.01127,0.0158,0.003442,15.77,0.08611,0.2102,0.06784\\n140,0,0.496,0.00604,0.02277,0.00322,14.1,0.0,0.3105,0.08151\\n141,1,1.332,0.00677,0.01875,0.003434,25.27,0.1216,0.2792,0.08158\\n142,0,1.908,0.006664,0.02282,0.003526,26.76,0.06402,0.2584,0.08096\\n143,0,0.7712,0.005324,0.02104,0.001887,21.82,0.1012,0.3549,0.08118\\n144,0,1.239,0.006547,0.01671,0.00236,20.72,0.03413,0.23,0.06769\\n145,0,0.6538,0.01017,0.03127,0.009423,16.51,0.06042,0.2727,0.1036\\n146,1,1.426,0.005427,0.05628,0.004635,26.38,0.1865,0.5774,0.103\\n147,0,1.909,0.00579,0.03356,0.009368,25.47,0.08405,0.2852,0.09218\\n148,0,0.7394,0.005706,0.01454,0.002528,19.85,0.1599,0.2691,0.07683\\n149,0,0.7574,0.002838,0.01329,0.001976,22.46,0.06019,0.235,0.07014\\n150,0,1.322,0.007017,0.02951,0.001533,24.11,0.06296,0.3196,0.06435\\n151,0,1.962,0.01243,0.02309,0.01178,29.72,0.07879,0.3322,0.1486\\n152,0,2.664,0.01097,0.03546,0.02984,19.49,0.1571,0.3108,0.1259\\n153,0,0.7815,0.009019,0.02388,0.001619,16.3,0.05506,0.2859,0.06772\\n154,0,0.7927,0.008584,0.02769,0.003479,20.5,0.09722,0.3849,0.08633\\n155,0,0.9823,0.005518,0.01799,0.002484,25.22,0.08211,0.3113,0.08132\\n156,1,1.4,0.009037,0.01778,0.004968,25.11,0.1515,0.2463,0.07738\\n157,0,2.06,0.003443,0.0152,0.001519,28.07,0.08436,0.2527,0.05972\\n158,0,0.7285,0.005528,0.01465,0.00253,18.41,0.07025,0.2514,0.07898\\n159,0,0.7614,0.006142,0.01637,0.002665,18.2,0.03953,0.2738,0.07685\\n160,0,1.693,0.009433,0.03397,0.005061,26.21,0.07909,0.3168,0.07987\\n161,1,0.6336,0.009406,0.03156,0.003362,17.81,0.1777,0.2443,0.06251\\n162,1,1.048,0.004057,0.01686,0.003318,26.39,0.2247,0.3643,0.09223\\n163,0,1.656,0.01134,0.01879,0.005348,28.68,0.08194,0.2268,0.09082\\n164,1,0.8561,0.00491,0.01956,0.00374,28.22,0.2346,0.3589,0.09187\\n165,0,1.065,0.003634,0.01924,0.00152,25.82,0.05754,0.2646,0.06085\\n166,0,0.4064,0.007809,0.01254,0.00212,12.02,0.04603,0.209,0.07699\\n167,1,1.391,0.006123,0.02091,0.003493,26.3,0.1474,0.281,0.07228\\n168,1,1.41,0.006174,0.01145,0.00512,32.33,0.1721,0.216,0.093\\n169,0,1.217,0.00508,0.0135,0.001706,23.0,0.08485,0.2404,0.06428\\n170,0,0.6656,0.008045,0.01924,0.002248,15.64,0.09391,0.2827,0.06771\\n171,1,1.147,0.006003,0.0152,0.001868,29.87,0.116,0.2884,0.07371\\n172,1,0.6583,0.005393,0.01792,0.004168,17.04,0.1827,0.3216,0.101\\n173,0,1.805,0.01496,0.03082,0.004785,16.82,0.04306,0.1902,0.07313\\n174,0,1.925,0.008713,0.03265,0.001002,19.2,0.0,0.271,0.06164\\n175,0,0.7873,0.009172,0.02711,0.003399,17.04,0.0,0.2592,0.07848\\n176,0,2.261,0.01286,0.0388,0.01792,24.39,0.0991,0.2614,0.1162\\n177,1,1.284,0.006627,0.01682,0.004584,28.45,0.2035,0.3054,0.09519\\n178,0,1.142,0.003418,0.01613,0.0009683,29.02,0.009259,0.2295,0.05843\\n179,0,0.9899,0.008534,0.01065,0.003351,16.15,0.0399,0.1783,0.07319\\n180,1,1.481,0.004631,0.01575,0.002747,32.85,0.2688,0.2856,0.08082\\n181,1,0.7629,0.004253,0.01798,0.005295,33.48,0.2903,0.4098,0.1284\\n182,1,1.15,0.004626,0.01547,0.00243,32.82,0.1541,0.3437,0.08631\\n183,0,1.108,0.007356,0.02165,0.004784,17.7,0.06296,0.1811,0.07427\\n184,1,0.4956,0.00329,0.01172,0.002575,28.03,0.1226,0.3175,0.09772\\n185,0,1.268,0.01439,0.02538,0.00347,21.18,0.01042,0.2933,0.07697\\n186,1,0.4757,0.002866,0.01069,0.001087,26.36,0.1571,0.3206,0.06938\\n187,0,0.7655,0.006905,0.01897,0.001671,21.39,0.1099,0.2572,0.07097\\n188,0,1.926,0.007831,0.03139,0.001988,26.48,0.04306,0.32,0.06576\\n189,0,0.8355,0.005996,0.02025,0.001725,19.59,0.04815,0.2482,0.06306\\n190,1,2.11,0.00797,0.05113,0.01172,37.18,0.1772,0.5166,0.1446\\n191,0,1.748,0.004571,0.03373,0.005875,23.5,0.04773,0.2179,0.06871\\n192,0,4.885,0.001713,0.03799,0.001688,20.83,0.0,0.1909,0.06559\\n193,1,1.809,0.009098,0.01878,0.005672,39.34,0.1459,0.3215,0.1205\\n194,1,0.9622,0.008081,0.02545,0.004312,27.78,0.1727,0.3,0.08701\\n195,0,0.9086,0.005298,0.01853,0.002152,22.0,0.08235,0.3024,0.06949\\n196,1,2.112,0.0138,0.02689,0.004306,34.01,0.1673,0.308,0.09333\\n197,1,1.305,0.00553,0.0214,0.005036,24.7,0.09181,0.2369,0.06558\\n198,1,1.073,0.005524,0.01415,0.003397,32.06,0.1708,0.3193,0.09221\\n199,1,0.6509,0.004044,0.01522,0.001976,30.12,0.1838,0.4753,0.1013\\n200,0,1.326,0.007514,0.01503,0.003338,28.36,0.108,0.2668,0.08174\\n201,1,0.8282,0.00609,0.01594,0.002658,25.84,0.1939,0.2928,0.07867\\n202,1,1.56,0.009327,0.02175,0.005195,32.68,0.2733,0.3198,0.08762\\n203,1,1.93,0.008824,0.01998,0.004506,41.85,0.2013,0.4432,0.1086\\n204,0,1.044,0.006953,0.01782,0.003586,24.64,0.1015,0.3014,0.0875\\n205,1,0.3621,0.005472,0.01523,0.002881,20.24,0.1252,0.3415,0.0974\\n206,0,1.342,0.009719,0.0221,0.002472,23.22,0.05588,0.2989,0.0738\\n207,1,0.8554,0.005038,0.02294,0.002581,25.05,0.1096,0.3275,0.06469\\n208,0,0.9223,0.005251,0.02514,0.004198,29.16,0.1126,0.4128,0.1076\\n209,0,0.3628,0.004291,0.009539,0.001656,15.92,0.1035,0.232,0.07474\\n210,1,1.48,0.008124,0.03176,0.002365,27.84,0.192,0.2909,0.05865\\n211,0,0.8652,0.005517,0.01616,0.002922,24.99,0.06913,0.2535,0.07993\\n212,1,1.476,0.01345,0.04783,0.004476,18.47,0.1595,0.1648,0.05525\\n213,1,1.667,0.03113,0.02175,0.01256,28.07,0.1099,0.1603,0.06818\\n214,1,1.845,0.01088,0.04499,0.004768,34.85,0.1772,0.4724,0.1026\\n215,1,1.194,0.00596,0.01939,0.00456,26.93,0.1654,0.363,0.1059\\n216,0,1.563,0.008872,0.02793,0.004775,27.1,0.1138,0.3397,0.08365\\n217,0,1.922,0.00468,0.0256,0.004613,24.47,0.03571,0.2868,0.07809\\n218,1,1.186,0.006804,0.01897,0.004045,28.64,0.182,0.307,0.08255\\n219,1,1.321,0.005539,0.01332,0.002256,45.41,0.1625,0.2713,0.07568\\n220,0,0.4336,0.004133,0.01371,0.002735,16.35,0.08056,0.238,0.08718\\n221,0,0.4981,0.005851,0.01842,0.002918,17.13,0.0909,0.3065,0.08177\\n222,0,1.217,0.007899,0.02637,0.003761,22.84,0.05575,0.3055,0.08797\\n223,1,0.9209,0.004766,0.01772,0.003131,30.29,0.1479,0.3993,0.1064\\n224,0,0.8907,0.006032,0.01482,0.002496,23.6,0.09678,0.2506,0.07623\\n225,0,0.8121,0.007089,0.02266,0.001463,16.9,0.1087,0.3062,0.06072\\n226,0,0.9027,0.006513,0.01502,0.002821,19.8,0.04464,0.2615,0.08269\\n227,0,0.4966,0.004119,0.01391,0.003204,19.31,0.1379,0.2954,0.08362\\n228,0,1.066,0.005169,0.01365,0.003407,31.31,0.118,0.2826,0.09585\\n229,1,1.069,0.006983,0.0168,0.005617,30.15,0.1977,0.3407,0.1243\\n230,1,0.679,0.005532,0.01177,0.002336,24.89,0.2543,0.3109,0.09061\\n231,0,0.8927,0.003653,0.01537,0.002052,33.75,0.02083,0.2849,0.07087\\n232,0,1.647,0.004359,0.01916,0.002534,41.78,0.03002,0.2911,0.07307\\n233,1,1.189,0.00502,0.01298,0.002887,37.38,0.1563,0.2437,0.08328\\n234,0,0.8301,0.01164,0.02383,0.00354,19.16,0.07222,0.2757,0.08178\\n235,0,1.503,0.007389,0.01263,0.002925,30.28,0.07963,0.2226,0.07617\\n236,1,0.9635,0.006428,0.0159,0.003053,34.51,0.2593,0.3103,0.08677\\n237,1,1.041,0.007959,0.01341,0.003933,26.17,0.1445,0.2238,0.07127\\n238,0,2.324,0.006307,0.01185,0.003589,40.54,0.08219,0.189,0.07796\\n239,1,0.8561,0.00486,0.01226,0.002759,44.87,0.2066,0.2853,0.08496\\n240,0,0.6612,0.00647,0.01898,0.001794,19.05,0.09222,0.253,0.0651\\n241,0,0.6745,0.003265,0.0172,0.00136,20.37,0.04052,0.2901,0.06783\\n242,0,1.642,0.006663,0.01995,0.008675,27.96,0.1218,0.3308,0.1297\\n243,0,1.057,0.004351,0.02598,0.003087,26.34,0.06106,0.2663,0.06321\\n244,1,1.802,0.01061,0.02186,0.003949,30.53,0.1564,0.292,0.07614\\n245,0,2.612,0.01604,0.03476,0.00356,29.46,0.06736,0.2883,0.07748\\n246,0,1.601,0.006261,0.01962,0.00225,27.82,0.0497,0.2767,0.07198\\n247,0,0.4402,0.005501,0.01266,0.007555,17.7,0.1561,0.2639,0.1178\\n248,0,1.493,0.007189,0.02158,0.002619,35.19,0.06136,0.3409,0.08147\\n249,0,1.038,0.006662,0.01677,0.002784,21.19,0.09608,0.2664,0.07809\\n250,1,0.8208,0.005283,0.02401,0.005002,27.0,0.2105,0.3126,0.07849\\n251,0,0.8429,0.00638,0.02292,0.001461,22.46,0.06544,0.274,0.06487\\n252,1,0.78,0.008482,0.01467,0.007259,25.59,0.2507,0.2749,0.1297\\n253,1,0.8568,0.004757,0.01394,0.002362,25.09,0.1857,0.3138,0.08113\\n254,1,0.6342,0.004649,0.01365,0.00255,24.57,0.1999,0.3379,0.0895\\n255,1,0.8098,0.006351,0.02062,0.002695,22.07,0.1374,0.3068,0.07957\\n256,1,1.199,0.006356,0.01936,0.005252,36.27,0.1941,0.2818,0.1005\\n257,1,1.059,0.01015,0.01884,0.00866,22.66,0.2229,0.3258,0.1191\\n258,1,2.454,0.01236,0.02337,0.006042,31.64,0.2462,0.3277,0.1019\\n259,1,1.278,0.005345,0.009947,0.003359,49.54,0.2014,0.3512,0.1204\\n260,1,1.033,0.005043,0.01282,0.001892,39.16,0.1697,0.3151,0.07999\\n261,1,1.317,0.005726,0.01411,0.001578,31.47,0.08235,0.2452,0.06515\\n262,1,1.633,0.006717,0.02747,0.005838,27.24,0.1528,0.3067,0.07484\\n263,1,0.9988,0.002826,0.01013,0.001345,31.67,0.08568,0.2683,0.06829\\n264,1,0.7383,0.004493,0.01144,0.001575,29.33,0.1984,0.3216,0.0757\\n265,1,1.617,0.004551,0.01367,0.002299,47.16,0.1659,0.2868,0.08218\\n266,0,1.197,0.00747,0.03504,0.003318,22.94,0.07926,0.294,0.07587\\n267,0,1.916,0.005436,0.0203,0.003009,30.04,0.06189,0.2446,0.07024\\n268,0,1.219,0.005518,0.02593,0.002157,23.64,0.0578,0.3604,0.07062\\n269,0,1.489,0.008902,0.02728,0.00761,25.21,0.086,0.2605,0.08701\\n270,0,0.7198,0.003492,0.01536,0.001381,20.65,0.03333,0.2458,0.0612\\n271,0,0.5293,0.006472,0.01692,0.002817,16.18,0.0875,0.2733,0.08022\\n272,1,1.352,0.005687,0.01924,0.004614,28.18,0.1841,0.2833,0.08858\\n273,0,1.409,0.0138,0.01798,0.004261,20.88,0.05159,0.2841,0.08175\\n274,1,1.433,0.005444,0.01419,0.002751,34.69,0.1136,0.2504,0.07948\\n275,0,2.293,0.01418,0.02678,0.003002,18.99,0.08946,0.222,0.06033\\n276,0,1.28,0.008426,0.02358,0.001627,18.99,0.01111,0.2758,0.06386\\n277,1,0.828,0.007571,0.0193,0.001676,24.3,0.1294,0.2567,0.05737\\n278,0,1.166,0.003741,0.01344,0.001126,26.1,0.05185,0.2335,0.06263\\n279,0,0.9195,0.004235,0.01528,0.001593,21.74,0.09993,0.2955,0.06912\\n280,1,1.001,0.007392,0.01435,0.003446,35.9,0.1872,0.3258,0.0972\\n281,0,1.268,0.008034,0.02921,0.002005,18.26,0.0829,0.3101,0.06688\\n282,1,0.9951,0.005654,0.01623,0.001965,28.65,0.2252,0.359,0.07787\\n283,1,0.9173,0.004563,0.01388,0.004081,25.09,0.1732,0.277,0.1063\\n284,0,1.389,0.006418,0.01878,0.003696,19.69,0.1017,0.1999,0.07127\\n285,0,1.35,0.006383,0.02571,0.002015,23.08,0.008772,0.2505,0.06431\\n286,0,1.39,0.006719,0.01872,0.008015,27.29,0.1155,0.2465,0.09981\\n287,0,0.469,0.004731,0.01619,0.002081,15.54,0.05366,0.2309,0.06915\\n288,0,1.905,0.01574,0.03418,0.006517,22.33,0.09314,0.2955,0.07009\\n289,0,1.974,0.006538,0.03416,0.002928,26.14,0.06203,0.3267,0.06994\\n290,0,1.77,0.007762,0.04077,0.02286,22.13,0.1021,0.2272,0.08799\\n291,0,0.948,0.005332,0.01522,0.002815,26.19,0.1489,0.2962,0.08472\\n292,0,0.7636,0.008725,0.02625,0.004726,19.93,0.1056,0.338,0.09584\\n293,0,1.238,0.007595,0.01792,0.001784,25.75,0.0914,0.3101,0.07007\\n294,0,0.6931,0.006064,0.01374,0.001392,17.48,0.06343,0.2369,0.06922\\n295,0,0.6946,0.004348,0.02154,0.001802,16.93,0.05802,0.2823,0.06794\\n296,0,1.027,0.003478,0.02941,0.003428,14.82,0.03194,0.2143,0.06643\\n297,1,2.105,0.005596,0.01575,0.002758,23.39,0.0716,0.1978,0.06915\\n298,0,0.669,0.003169,0.01103,0.001957,25.26,0.0753,0.2636,0.07676\\n299,0,1.143,0.01017,0.03464,0.001971,24.22,0.03125,0.2227,0.06777\\n300,1,1.161,0.006056,0.01884,0.004787,26.24,0.198,0.2968,0.09929\\n301,0,1.04,0.00653,0.0274,0.004651,23.07,0.07625,0.2685,0.07764\\n302,1,1.743,0.007964,0.02736,0.005928,29.43,0.1923,0.3294,0.09469\\n303,0,1.563,0.008875,0.01791,0.003317,24.54,0.06528,0.2213,0.07842\\n304,0,1.059,0.006652,0.01894,0.003411,21.61,0.05509,0.2208,0.07638\\n305,0,1.786,0.006122,0.03194,0.002211,31.62,0.04815,0.3244,0.06745\\n306,0,0.5735,0.003632,0.01344,0.002585,20.45,0.025,0.2651,0.08385\\n307,0,1.305,0.007389,0.02701,0.002153,20.07,0.01389,0.2991,0.07804\\n308,0,0.6864,0.003338,0.0148,0.001566,16.94,0.0221,0.2267,0.06192\\n309,0,0.8285,0.004148,0.01422,0.002273,17.4,0.03532,0.2107,0.0658\\n310,0,1.43,0.006064,0.02349,0.001661,26.55,0.05741,0.3487,0.06958\\n311,0,0.9115,0.005031,0.01494,0.0008948,21.75,0.05813,0.253,0.05695\\n312,0,0.6594,0.006494,0.01731,0.004392,16.4,0.08411,0.2564,0.08253\\n313,0,0.3602,0.004124,0.02032,0.001952,12.87,0.04715,0.339,0.07434\\n314,0,2.777,0.02075,0.06146,0.00682,22.44,0.0,0.3142,0.08116\\n315,0,0.7151,0.004928,0.01393,0.001344,19.71,0.02784,0.1917,0.06174\\n316,0,0.5996,0.005343,0.01977,0.0009502,16.47,0.01852,0.2293,0.06037\\n317,1,0.5503,0.004821,0.01275,0.002451,25.0,0.1776,0.2812,0.08198\\n318,0,1.911,0.009845,0.03491,0.007877,23.4,0.1145,0.3135,0.1055\\n319,0,2.2,0.007357,0.03433,0.002961,20.21,0.02832,0.1901,0.05932\\n320,0,1.471,0.01049,0.02719,0.007596,20.61,0.09744,0.2608,0.09702\\n321,1,0.6863,0.004536,0.02193,0.001589,23.03,0.1425,0.3055,0.05933\\n322,0,1.042,0.00591,0.01202,0.003107,21.08,0.1155,0.2382,0.08553\\n323,1,1.023,0.005485,0.02768,0.003345,31.86,0.2685,0.5558,0.1024\\n324,0,0.8073,0.005403,0.01333,0.002065,21.38,0.05556,0.2661,0.07961\\n325,0,0.9505,0.006809,0.02057,0.001784,21.1,0.05602,0.2688,0.06888\\n326,0,1.081,0.006692,0.01416,0.002476,18.0,0.0589,0.21,0.07083\\n327,0,0.9097,0.004729,0.01466,0.001755,22.25,0.02796,0.2171,0.07037\\n328,1,1.232,0.006697,0.01536,0.002789,30.38,0.1583,0.3103,0.082\\n329,1,1.457,0.01056,0.04022,0.006187,25.21,0.1047,0.2736,0.07953\\n330,1,0.7476,0.005839,0.01467,0.003121,21.98,0.1981,0.3019,0.09124\\n331,0,0.5664,0.005727,0.02751,0.004572,21.95,0.09858,0.3596,0.09166\\n332,0,1.966,0.01289,0.04243,0.001963,25.78,0.02022,0.3292,0.06522\\n333,0,0.9961,0.005617,0.017,0.00203,22.06,0.01667,0.2815,0.07418\\n334,0,1.532,0.007881,0.01939,0.002222,28.46,0.03983,0.2554,0.07207\\n335,1,2.129,0.006455,0.01829,0.003733,33.15,0.1827,0.2623,0.07599\\n336,0,0.6412,0.005231,0.01639,0.005701,16.91,0.0585,0.2432,0.1009\\n337,1,1.53,0.007548,0.02168,0.004445,34.37,0.2048,0.3679,0.0987\\n338,0,2.015,0.007803,0.021,0.002778,26.84,0.06499,0.2894,0.07664\\n339,1,0.9245,0.006292,0.01479,0.003118,30.73,0.2089,0.2593,0.07738\\n340,0,0.7706,0.004577,0.01873,0.003373,21.51,0.1414,0.3053,0.08764\\n341,0,0.9429,0.005954,0.0175,0.004031,23.07,0.0812,0.2982,0.09825\\n342,0,0.8225,0.007416,0.02348,0.002917,19.9,0.1075,0.3301,0.0908\\n343,1,2.284,0.004756,0.03756,0.003288,34.66,0.2255,0.4045,0.07918\\n344,0,0.7395,0.009536,0.01953,0.0031,18.16,0.07864,0.2765,0.07806\\n345,0,2.509,0.01736,0.03675,0.006758,19.48,0.04074,0.2434,0.08488\\n346,0,1.152,0.00718,0.01982,0.002754,27.06,0.05093,0.288,0.08083\\n347,0,0.3981,0.004732,0.02163,0.002783,17.93,0.1251,0.3109,0.08187\\n348,0,0.7615,0.009191,0.01755,0.003009,20.79,0.06548,0.2851,0.08763\\n349,0,1.05,0.0058,0.02734,0.003114,17.72,0.04766,0.3124,0.0759\\n350,0,0.6724,0.006583,0.02216,0.002668,19.74,0.04262,0.2731,0.06825\\n351,1,1.324,0.009329,0.05543,0.00733,24.17,0.2135,0.4245,0.105\\n352,1,0.8509,0.006369,0.02335,0.003385,23.58,0.2756,0.369,0.08815\\n353,1,1.506,0.01052,0.0212,0.004867,33.22,0.1526,0.2654,0.09438\\n354,0,0.8092,0.005541,0.03102,0.004831,15.82,0.03922,0.2576,0.07018\\n355,0,1.478,0.009853,0.02639,0.004205,22.43,0.09265,0.2121,0.07188\\n356,0,1.51,0.007807,0.0286,0.005715,24.85,0.1258,0.3113,0.08317\\n357,0,1.363,0.005638,0.01544,0.002087,25.58,0.05556,0.2362,0.07113\\n358,0,1.2,0.01093,0.02837,0.004174,17.7,0.04762,0.2434,0.07431\\n359,0,1.247,0.006836,0.01942,0.002713,25.02,0.05052,0.2454,0.08136\\n360,0,0.9527,0.005783,0.02043,0.001058,20.98,0.01635,0.2233,0.05521\\n361,0,1.539,0.005498,0.01829,0.001956,29.2,0.05614,0.2637,0.06658\\n362,0,1.285,0.005608,0.01909,0.002133,25.99,0.08312,0.2744,0.07238\\n363,0,1.439,0.007257,0.01694,0.002001,25.45,0.09123,0.2394,0.06469\\n364,0,0.6124,0.004394,0.01291,0.002074,21.7,0.06987,0.2741,0.07582\\n365,1,0.9168,0.006208,0.01445,0.001906,26.37,0.1765,0.2609,0.06735\\n366,1,1.892,0.008439,0.0371,0.004286,33.81,0.2152,0.3271,0.07632\\n367,0,0.7786,0.005833,0.01938,0.00196,24.04,0.08829,0.3218,0.0747\\n368,1,1.051,0.005568,0.01263,0.001803,26.44,0.182,0.251,0.06494\\n369,1,0.6999,0.003978,0.01518,0.003796,25.8,0.2432,0.2741,0.08574\\n370,1,1.022,0.005635,0.03197,0.004085,31.03,0.2248,0.4824,0.09614\\n371,0,0.4125,0.005012,0.01647,0.001767,15.73,0.08178,0.2487,0.06766\\n372,1,1.309,0.004426,0.01675,0.004367,21.84,0.1966,0.273,0.08666\\n373,1,0.6575,0.006211,0.01276,0.001711,23.17,0.2112,0.2689,0.07055\\n374,0,0.5066,0.00423,0.01943,0.002177,20.21,0.06987,0.3323,0.07701\\n375,0,0.489,0.00451,0.01934,0.003696,19.14,0.1251,0.3153,0.0896\\n376,0,1.231,0.008499,0.01617,0.0122,22.82,0.1465,0.2597,0.12\\n377,0,1.15,0.004942,0.01442,0.001684,35.63,0.05781,0.2694,0.07061\\n378,0,0.5417,0.005212,0.01818,0.004868,19.64,0.1054,0.3387,0.09638\\n379,1,1.027,0.007405,0.01738,0.004435,32.82,0.2524,0.4154,0.1403\\n380,0,0.9858,0.006635,0.02108,0.003721,20.53,0.1318,0.3343,0.09215\\n381,0,1.031,0.005296,0.0188,0.001941,20.83,0.06754,0.3202,0.07287\\n382,0,1.434,0.005042,0.0247,0.007358,28.71,0.1092,0.2191,0.09349\\n383,0,0.873,0.006715,0.01838,0.006884,23.13,0.09804,0.2819,0.1118\\n384,0,0.5308,0.004271,0.01461,0.002613,17.37,0.09173,0.2736,0.0732\\n385,1,1.627,0.008312,0.0174,0.002871,31.71,0.1359,0.2477,0.06836\\n386,0,0.8309,0.004405,0.01921,0.004622,19.29,0.0914,0.2677,0.08824\\n387,0,0.6218,0.003728,0.01647,0.00197,19.97,0.04537,0.2542,0.06623\\n388,0,1.067,0.01038,0.01219,0.01233,18.93,0.08272,0.2157,0.1043\\n389,1,2.836,0.01124,0.02768,0.00624,30.44,0.1825,0.2576,0.07602\\n390,0,0.5477,0.005682,0.01938,0.002371,15.65,0.06696,0.2937,0.07722\\n391,0,2.079,0.01582,0.01865,0.006736,22.8,0.0,0.2445,0.08865\\n392,1,1.331,0.007269,0.01852,0.004232,29.41,0.2121,0.3187,0.1019\\n393,1,0.9209,0.005215,0.02045,0.004028,28.74,0.2422,0.3828,0.1007\\n394,0,1.652,0.008146,0.02015,0.001798,25.8,0.06266,0.3049,0.07081\\n395,0,1.685,0.005371,0.01719,0.001444,25.34,0.07911,0.2523,0.06609\\n396,0,1.332,0.005442,0.01315,0.002464,27.2,0.1453,0.2666,0.07686\\n397,0,1.265,0.005421,0.01869,0.004067,21.06,0.08296,0.1988,0.07053\\n398,0,0.6881,0.004259,0.01191,0.003537,20.35,0.05556,0.259,0.09158\\n399,0,1.14,0.005463,0.01477,0.003071,24.49,0.05356,0.2779,0.08121\\n400,1,0.7747,0.007159,0.01591,0.005099,27.78,0.1964,0.3245,0.1198\\n401,0,1.045,0.006175,0.01096,0.001857,20.14,0.06876,0.246,0.07262\\n402,0,1.299,0.003629,0.02632,0.003705,24.61,0.06608,0.3207,0.07247\\n403,0,0.905,0.002887,0.0187,0.001972,23.02,0.08388,0.3297,0.07834\\n404,0,0.9078,0.007702,0.0297,0.001432,16.85,0.04793,0.2298,0.05974\\n405,0,1.743,0.009519,0.02079,0.002701,25.58,0.07887,0.2251,0.07732\\n406,0,0.6372,0.003958,0.015,0.001621,19.58,0.1129,0.2778,0.07012\\n407,0,1.798,0.006011,0.02669,0.007731,27.01,0.05601,0.2488,0.08151\\n408,1,0.8733,0.007231,0.01414,0.003336,25.41,0.1974,0.306,0.08503\\n409,0,1.781,0.005888,0.02578,0.002267,28.88,0.09532,0.3455,0.06896\\n410,0,1.555,0.005391,0.01341,0.001659,36.32,0.08698,0.2973,0.07745\\n411,0,1.387,0.005158,0.01718,0.002198,26.44,0.07431,0.2998,0.07881\\n412,0,1.182,0.005515,0.01951,0.004583,27.99,0.02564,0.2376,0.09206\\n413,0,1.336,0.004449,0.01906,0.004015,31.55,0.1308,0.3163,0.09251\\n414,1,1.627,0.006831,0.03151,0.00175,36.91,0.06575,0.3233,0.06165\\n415,0,1.203,0.009895,0.02258,0.002272,27.21,0.08263,0.3075,0.07351\\n416,0,2.878,0.01474,0.03044,0.00459,31.24,0.0377,0.2872,0.08304\\n417,1,1.213,0.008198,0.02018,0.005815,27.65,0.2134,0.3003,0.1048\\n418,0,0.6457,0.006131,0.01713,0.004414,16.92,0.08224,0.2775,0.09464\\n419,0,1.678,0.006908,0.02694,0.00206,28.92,0.04306,0.2976,0.07123\\n420,0,1.44,0.007278,0.01868,0.003339,26.98,0.06664,0.3035,0.08284\\n421,0,1.511,0.009976,0.02653,0.005444,18.34,0.1108,0.2827,0.09208\\n422,0,0.7339,0.005884,0.01848,0.001982,19.67,0.1105,0.2787,0.07427\\n423,0,0.895,0.00398,0.01581,0.003956,25.5,0.1407,0.2744,0.08839\\n424,0,1.747,0.01307,0.031,0.004225,23.17,0.04589,0.3196,0.08009\\n425,0,1.341,0.005724,0.01445,0.002411,28.94,0.02579,0.2349,0.08061\\n426,0,1.127,0.007364,0.02161,0.00483,21.57,0.0931,0.302,0.09646\\n427,0,1.621,0.006543,0.01844,0.00269,32.04,0.07485,0.2965,0.07662\\n428,0,0.9671,0.005883,0.02009,0.002377,20.29,0.04044,0.2383,0.07083\\n429,0,0.8836,0.007337,0.0194,0.00118,20.96,0.03612,0.2165,0.06025\\n430,1,0.8749,0.006965,0.01499,0.005784,27.57,0.2475,0.2866,0.1155\\n431,0,1.46,0.01,0.02187,0.006005,22.91,0.0737,0.2556,0.09359\\n432,1,1.001,0.009087,0.02451,0.004005,25.07,0.2173,0.3032,0.08075\\n433,1,1.931,0.008074,0.02383,0.004515,30.93,0.1708,0.3007,0.08314\\n434,0,0.6683,0.005756,0.01551,0.002168,20.54,0.07971,0.2525,0.06827\\n435,1,0.9533,0.005314,0.01223,0.002846,30.8,0.1827,0.3179,0.1055\\n436,0,0.7693,0.00591,0.02223,0.002378,24.38,0.06384,0.3313,0.07735\\n437,0,1.046,0.007976,0.02005,0.00283,21.58,0.07453,0.2725,0.07234\\n438,0,1.678,0.005836,0.02014,0.002326,28.01,0.0589,0.2513,0.06911\\n439,0,0.6549,0.004837,0.01171,0.002104,19.31,0.08216,0.2136,0.0671\\n440,0,1.376,0.008565,0.01516,0.004976,26.87,0.1555,0.254,0.09532\\n441,1,1.679,0.008109,0.01594,0.003739,35.46,0.1739,0.25,0.07944\\n442,0,0.4833,0.006432,0.01227,0.002564,17.5,0.03312,0.1859,0.0681\\n443,0,2.542,0.01072,0.01717,0.004492,23.31,0.02222,0.2699,0.06736\\n444,1,0.5906,0.004117,0.01295,0.002436,22.02,0.1535,0.2842,0.08225\\n445,0,1.204,0.00832,0.02094,0.003674,30.36,0.1202,0.2599,0.08251\\n446,1,1.077,0.004714,0.01237,0.002556,38.54,0.197,0.2972,0.09075\\n447,0,0.6221,0.004796,0.02254,0.001971,22.74,0.08308,0.36,0.07285\\n448,0,1.354,0.004147,0.01394,0.002327,28.39,0.09594,0.2471,0.07463\\n449,1,1.361,0.005467,0.01029,0.002205,32.07,0.228,0.2268,0.07425\\n450,0,1.554,0.006854,0.02354,0.008925,28.18,0.0875,0.2305,0.09952\\n451,1,1.375,0.0119,0.01641,0.001807,30.96,0.1466,0.2293,0.06091\\n452,0,1.705,0.007334,0.01745,0.004302,37.88,0.07116,0.2447,0.08194\\n453,0,0.7213,0.006133,0.02207,0.003563,16.93,0.1069,0.2606,0.0781\\n454,0,0.6674,0.003888,0.01608,0.001638,22.15,0.09851,0.327,0.0733\\n455,0,1.924,0.005841,0.01564,0.002985,41.61,0.07763,0.2196,0.07675\\n456,0,2.426,0.009861,0.02475,0.002128,38.81,0.06835,0.2884,0.0722\\n457,0,1.35,0.005768,0.01347,0.001828,34.23,0.06005,0.2444,0.06788\\n458,0,1.232,0.006054,0.01215,0.001514,31.88,0.05921,0.2306,0.06291\\n459,0,1.687,0.006588,0.01574,0.002268,36.92,0.04866,0.2321,0.07211\\n460,1,1.152,0.00874,0.02045,0.004417,34.49,0.1555,0.301,0.0906\\n461,1,1.306,0.00765,0.01697,0.004558,31.37,0.2625,0.2641,0.07427\\n462,0,0.9112,0.005356,0.01414,0.001892,31.98,0.05563,0.2345,0.06464\\n463,0,0.7656,0.006709,0.02124,0.002768,24.02,0.08288,0.321,0.07863\\n464,0,0.685,0.005969,0.01093,0.001672,23.89,0.1045,0.2235,0.06925\\n465,0,0.8135,0.004929,0.01526,0.008133,25.5,0.1357,0.2845,0.1249\\n466,0,0.7884,0.007295,0.01561,0.00323,25.46,0.1181,0.2563,0.08174\\n467,0,1.312,0.01098,0.02693,0.002979,24.62,0.025,0.3057,0.07875\\n468,1,1.465,0.006766,0.01673,0.0113,28.87,0.1996,0.2301,0.1224\\n469,0,1.74,0.01459,0.01807,0.005217,25.4,0.1416,0.266,0.0927\\n470,0,1.35,0.007501,0.0196,0.003913,25.62,0.0656,0.3174,0.08524\\n471,0,2.643,0.007517,0.02047,0.003883,33.33,0.05547,0.2404,0.06639\\n472,0,0.4334,0.003271,0.01148,0.002379,18.22,0.1147,0.2688,0.08273\\n473,0,3.647,0.007339,0.03141,0.003136,38.05,0.0,0.2409,0.06743\\n474,0,0.538,0.004474,0.01212,0.004672,19.35,0.07966,0.2581,0.108\\n475,0,0.4875,0.004873,0.01601,0.002289,19.35,0.09783,0.3006,0.07802\\n476,0,1.018,0.004107,0.0161,0.002744,27.26,0.1339,0.2534,0.07858\\n477,0,0.5762,0.003308,0.01316,0.002095,21.8,0.06222,0.2679,0.07698\\n478,0,1.166,0.004957,0.01843,0.003614,21.9,0.07431,0.2941,0.0918\\n479,1,0.9857,0.009197,0.02773,0.006355,23.05,0.1775,0.3318,0.09136\\n480,0,1.19,0.004911,0.01454,0.001858,27.87,0.0569,0.2406,0.07729\\n481,0,0.9264,0.003704,0.01062,0.002217,26.42,0.0815,0.2356,0.07603\\n482,0,0.5733,0.00445,0.01698,0.002787,18.32,0.1335,0.3227,0.09326\\n483,0,0.9462,0.003245,0.01285,0.001524,23.53,0.09077,0.2518,0.0696\\n484,0,0.3871,0.006034,0.01175,0.002256,14.2,0.1452,0.2557,0.08181\\n485,0,1.207,0.007234,0.03232,0.009627,21.03,0.1342,0.3231,0.1034\\n486,0,1.006,0.003535,0.01254,0.001219,25.44,0.07828,0.2455,0.06596\\n487,1,1.408,0.005288,0.01717,0.003211,30.39,0.206,0.3266,0.09009\\n488,0,1.154,0.008998,0.02152,0.003213,21.59,0.09815,0.2804,0.08024\\n489,1,0.5679,0.002667,0.01961,0.0017,26.56,0.08737,0.4677,0.07623\\n490,0,1.139,0.005096,0.01608,0.002399,31.99,0.06335,0.31,0.08203\\n491,0,1.046,0.004369,0.01302,0.001309,18.42,0.08341,0.1783,0.05871\\n492,1,1.288,0.007997,0.02897,0.003996,26.06,0.1489,0.3251,0.07625\\n493,0,1.486,0.01039,0.02869,0.004821,16.36,0.0268,0.228,0.07028\\n494,0,1.473,0.007802,0.02086,0.002701,28.46,0.04195,0.2687,0.07429\\n495,0,1.636,0.005415,0.01959,0.001812,28.48,0.1017,0.2369,0.06599\\n496,0,0.6332,0.005704,0.01759,0.003563,22.15,0.1407,0.323,0.1033\\n497,0,0.781,0.003796,0.01536,0.001541,24.34,0.1053,0.3035,0.07661\\n498,1,1.045,0.007974,0.01617,0.005255,22.88,0.1663,0.251,0.09445\\n499,1,1.216,0.006666,0.01117,0.003727,30.76,0.2113,0.248,0.08999\\n500,0,0.8423,0.004123,0.01055,0.003237,20.43,0.1018,0.2177,0.08549\\n501,1,1.528,0.00968,0.02434,0.006995,32.94,0.1521,0.3651,0.1183\\n502,0,1.095,0.009702,0.02801,0.00248,21.4,0.08411,0.3155,0.07538\\n503,1,0.7452,0.005753,0.02201,0.002897,23.87,0.2264,0.2908,0.07277\\n504,0,1.093,0.009783,0.02542,0.01045,16.38,0.1025,0.3038,0.1252\\n505,0,1.39,0.02177,0.02632,0.01148,18.04,0.1075,0.2848,0.1364\\n506,0,0.7959,0.006272,0.0132,0.003813,24.17,0.08088,0.2709,0.08839\\n507,0,1.03,0.01262,0.0222,0.008313,20.74,0.09514,0.278,0.1168\\n508,0,0.4706,0.007394,0.01344,0.002569,17.76,0.1357,0.23,0.0723\\n509,1,1.961,0.009538,0.02105,0.006,36.33,0.2163,0.3013,0.1067\\n510,0,0.6417,0.006982,0.0226,0.006822,17.6,0.1056,0.2604,0.09879\\n511,0,0.6232,0.006708,0.0158,0.001779,17.58,0.07955,0.2334,0.06142\\n512,1,0.9306,0.005414,0.01705,0.004005,29.66,0.2051,0.3585,0.1109\\n513,0,0.6237,0.004953,0.01539,0.002281,17.24,0.09186,0.2626,0.07048\\n514,1,1.198,0.004952,0.01152,0.001718,28.06,0.112,0.2282,0.06954\\n515,0,1.01,0.008577,0.02434,0.001217,23.03,0.08542,0.306,0.06783\\n516,1,0.9225,0.006176,0.01559,0.002725,26.2,0.151,0.3074,0.07863\\n517,1,0.8737,0.005089,0.01057,0.003391,25.23,0.1613,0.2549,0.09136\\n518,0,1.169,0.005273,0.01816,0.003299,24.37,0.1096,0.2582,0.08893\\n519,0,1.003,0.007509,0.01805,0.003629,21.74,0.08045,0.3071,0.08557\\n520,0,1.13,0.01546,0.03997,0.003901,17.84,0.07262,0.3681,0.08982\\n521,1,0.9004,0.004989,0.01879,0.00476,26.93,0.2475,0.3157,0.09671\\n522,0,1.083,0.0042,0.01487,0.002295,26.43,0.02832,0.2557,0.07613\\n523,0,1.249,0.006739,0.0187,0.003747,25.63,0.1284,0.2849,0.09031\\n524,0,1.216,0.008732,0.01824,0.003494,22.99,0.06528,0.2502,0.09209\\n525,0,0.6793,0.007897,0.01592,0.003925,18.45,0.08512,0.2983,0.1049\\n526,0,0.6068,0.004413,0.01354,0.001787,25.16,0.1427,0.3518,0.08665\\n527,0,0.4957,0.003681,0.01129,0.001366,19.27,0.107,0.311,0.07592\\n528,0,2.635,0.01004,0.01715,0.005528,15.38,0.1015,0.216,0.07253\\n529,0,0.504,0.007327,0.01962,0.002234,15.77,0.07393,0.2781,0.08052\\n530,0,1.907,0.006587,0.01835,0.002318,27.98,0.101,0.2478,0.07757\\n531,0,0.8745,0.005251,0.01449,0.002671,28.81,0.0812,0.3206,0.0895\\n532,0,0.4801,0.003828,0.01054,0.001697,20.2,0.08704,0.2806,0.07782\\n533,1,1.736,0.004938,0.02816,0.002719,27.15,0.1613,0.322,0.06386\\n534,0,1.583,0.009501,0.01322,0.003534,26.51,0.09861,0.2289,0.08278\\n535,1,0.9901,0.004578,0.01948,0.002689,25.48,0.2148,0.3077,0.07569\\n536,1,1.851,0.006113,0.01451,0.003756,34.27,0.1362,0.2698,0.08351\\n537,0,1.978,0.01288,0.0156,0.005824,32.19,0.1308,0.2803,0.0997\\n538,0,1.462,0.01266,0.02882,0.006872,30.92,0.0,0.3058,0.09938\\n539,0,1.479,0.01547,0.02105,0.007551,31.89,0.05,0.279,0.1066\\n540,0,1.768,0.01215,0.0184,0.005512,19.68,0.06918,0.2329,0.08134\\n541,0,1.079,0.007138,0.02068,0.006111,31.73,0.1205,0.3187,0.1023\\n542,0,1.385,0.004775,0.0187,0.002626,32.29,0.1095,0.2722,0.06956\\n543,0,1.597,0.004973,0.01724,0.001343,37.17,0.07958,0.2473,0.06443\\n544,0,1.047,0.006298,0.0149,0.003599,24.75,0.06845,0.2249,0.08492\\n545,0,1.336,0.005868,0.02087,0.002583,29.09,0.07174,0.2642,0.06953\\n546,0,0.967,0.007086,0.0156,0.002606,21.77,0.02381,0.2681,0.07399\\n547,0,1.023,0.01027,0.02277,0.00589,22.04,0.08333,0.2691,0.09479\\n548,0,1.363,0.00744,0.02203,0.004154,25.59,0.03846,0.2552,0.0792\\n549,0,1.918,0.008263,0.02466,0.002977,31.45,0.03264,0.3059,0.07626\\n550,0,1.304,0.009579,0.03004,0.002228,24.77,0.0,0.2458,0.06592\\n551,0,1.467,0.003495,0.02912,0.004723,28.26,0.06413,0.3169,0.08032\\n552,0,1.367,0.008835,0.01897,0.001726,36.0,0.06498,0.2407,0.06484\\n553,0,1.879,0.01094,0.03759,0.004623,25.05,0.02564,0.2435,0.07393\\n554,0,1.36,0.008412,0.01695,0.002801,35.74,0.06493,0.2372,0.07242\\n555,0,2.239,0.01205,0.01843,0.004938,34.91,0.09127,0.2226,0.08283\\n556,0,2.09,0.01291,0.02572,0.002278,22.88,0.02232,0.2262,0.06742\\n557,0,2.927,0.01159,0.03004,0.003324,34.24,0.0,0.2475,0.06969\\n558,0,1.108,0.004242,0.01638,0.004406,27.27,0.1105,0.2258,0.08004\\n559,0,2.904,0.0082,0.01488,0.004738,37.16,0.09653,0.2112,0.08732\\n560,0,1.492,0.007256,0.0208,0.005304,33.17,0.1048,0.225,0.08321\\n561,0,3.896,0.007594,0.01989,0.001773,38.3,0.0,0.1566,0.05905\\n562,1,1.205,0.004625,0.02137,0.006142,42.79,0.2356,0.4089,0.1409\\n563,1,1.026,0.006399,0.02057,0.006213,29.41,0.2542,0.2929,0.09873\\n564,1,1.256,0.0103,0.01114,0.004239,26.4,0.2216,0.206,0.07115\\n565,1,2.463,0.005769,0.01898,0.002498,38.25,0.1628,0.2572,0.06637\\n566,1,1.075,0.005903,0.01318,0.003892,34.12,0.1418,0.2218,0.0782\\n567,1,1.595,0.006522,0.02324,0.006185,39.42,0.265,0.4087,0.124\\n568,0,1.428,0.007189,0.02676,0.002783,30.37,0.0,0.2871,0.07039\\n'"
            ],
            "application/vnd.google.colaboratory.intrinsic+json": {
              "type": "string"
            }
          },
          "metadata": {},
          "execution_count": 15
        }
      ]
    },
    {
      "cell_type": "markdown",
      "source": [
        "Nous ne garderons que "
      ],
      "metadata": {
        "id": "gj_eNbosRX5L"
      }
    },
    {
      "cell_type": "markdown",
      "source": [
        "# 4. Implémentation des différents modèles de ML"
      ],
      "metadata": {
        "id": "f8KdBTfq6poK"
      }
    },
    {
      "cell_type": "markdown",
      "source": [
        "**4.1 Subdivision de la base de données en données d'apprentissage et test**"
      ],
      "metadata": {
        "id": "9AQjU-nW7OFW"
      }
    },
    {
      "cell_type": "markdown",
      "source": [
        "Divsion en 70 % de données d'apprentissage et 20 % de test"
      ],
      "metadata": {
        "id": "b4S_2K-27eYz"
      }
    },
    {
      "cell_type": "code",
      "source": [
        "X = df.drop('diagnosis', axis = 1)\n",
        "y = df['diagnosis']"
      ],
      "metadata": {
        "id": "uawnXWTI7oOM"
      },
      "execution_count": 16,
      "outputs": []
    },
    {
      "cell_type": "code",
      "source": [
        "# splitting data into training and test set\n",
        "\n",
        "from sklearn.model_selection import train_test_split\n",
        "\n",
        "X_train, X_test, y_train, y_test = train_test_split(X, y, test_size = 0.3, random_state = 42)"
      ],
      "metadata": {
        "id": "DrfA6qGm_4Bg"
      },
      "execution_count": 17,
      "outputs": []
    },
    {
      "cell_type": "markdown",
      "source": [
        "**4.2) Normalisation de nos données**"
      ],
      "metadata": {
        "id": "rfSUXPdJ9oCR"
      }
    },
    {
      "cell_type": "markdown",
      "source": [
        "Nous remarquons une très grande variabilté en nos variables. Nous allons proceder à la normalisation de nos données de test."
      ],
      "metadata": {
        "id": "aCqA4lqZ8xwa"
      }
    },
    {
      "cell_type": "code",
      "source": [
        "# scaling data\n",
        "\n",
        "from sklearn.preprocessing import StandardScaler\n",
        "\n",
        "ss = StandardScaler()\n",
        "X_train = ss.fit_transform(X_train)\n",
        "X_test = ss.fit_transform(X_test)"
      ],
      "metadata": {
        "id": "R5NpW4xn9_Lu"
      },
      "execution_count": 18,
      "outputs": []
    },
    {
      "cell_type": "markdown",
      "source": [
        ""
      ],
      "metadata": {
        "id": "x-TkUmTU_Ofj"
      }
    },
    {
      "cell_type": "markdown",
      "source": [
        "**4.3) Implémentation**"
      ],
      "metadata": {
        "id": "ncJayqY2_P5t"
      }
    },
    {
      "cell_type": "markdown",
      "source": [
        "4.3.1) Regression Logistique"
      ],
      "metadata": {
        "id": "Ve3Ek22F_WWw"
      }
    },
    {
      "cell_type": "code",
      "source": [
        "logreg = LogisticRegression()\n",
        "logreg.fit(X_train, y_train)\n",
        "predictions1 = logreg.predict(X_test)\n"
      ],
      "metadata": {
        "id": "AqTOJ3MB_jOu"
      },
      "execution_count": 19,
      "outputs": []
    },
    {
      "cell_type": "code",
      "source": [
        "from sklearn.metrics import confusion_matrix, classification_report\n",
        "\n",
        "print(\"Confusion Matrix: \\n\", confusion_matrix(y_test, predictions1))\n",
        "print('\\n')\n",
        "print(classification_report(y_test, predictions1))"
      ],
      "metadata": {
        "colab": {
          "base_uri": "https://localhost:8080/"
        },
        "id": "0TaINlm0DjZ9",
        "outputId": "82d38c50-e11b-44ea-cd68-269805ac473c"
      },
      "execution_count": 20,
      "outputs": [
        {
          "output_type": "stream",
          "name": "stdout",
          "text": [
            "Confusion Matrix: \n",
            " [[103   5]\n",
            " [  8  55]]\n",
            "\n",
            "\n",
            "              precision    recall  f1-score   support\n",
            "\n",
            "           0       0.93      0.95      0.94       108\n",
            "           1       0.92      0.87      0.89        63\n",
            "\n",
            "    accuracy                           0.92       171\n",
            "   macro avg       0.92      0.91      0.92       171\n",
            "weighted avg       0.92      0.92      0.92       171\n",
            "\n"
          ]
        }
      ]
    },
    {
      "cell_type": "code",
      "source": [
        "from sklearn.metrics import accuracy_score\n",
        "\n",
        "logreg_acc = accuracy_score(y_test, predictions1)\n",
        "print(\"Accuracy of the Logistic Regression Model is: \", logreg_acc)"
      ],
      "metadata": {
        "colab": {
          "base_uri": "https://localhost:8080/"
        },
        "id": "h7IG6JUsDuF6",
        "outputId": "a9088149-ce5b-4345-e7f1-b098bcbf5559"
      },
      "execution_count": 21,
      "outputs": [
        {
          "output_type": "stream",
          "name": "stdout",
          "text": [
            "Accuracy of the Logistic Regression Model is:  0.9239766081871345\n"
          ]
        }
      ]
    },
    {
      "cell_type": "markdown",
      "source": [
        "4.3.2) Support Vector Classifier (SVC)"
      ],
      "metadata": {
        "id": "mfeKprbMEhrK"
      }
    },
    {
      "cell_type": "code",
      "source": [
        "from sklearn.svm import SVC\n",
        "from sklearn.model_selection import GridSearchCV\n",
        "\n",
        "svc = SVC()\n",
        "parameters = {\n",
        "    'gamma' : [0.0001, 0.001, 0.01, 0.1],\n",
        "    'C' : [0.01, 0.05, 0.5, 0.1, 1, 10, 15, 20]\n",
        "}\n",
        "\n",
        "grid_search = GridSearchCV(svc, parameters)\n",
        "grid_search.fit(X_train, y_train)"
      ],
      "metadata": {
        "colab": {
          "base_uri": "https://localhost:8080/"
        },
        "id": "ULTYsGisEwQB",
        "outputId": "a47be2c2-46c1-448f-9055-9f2c6b3df1de"
      },
      "execution_count": 22,
      "outputs": [
        {
          "output_type": "execute_result",
          "data": {
            "text/plain": [
              "GridSearchCV(estimator=SVC(),\n",
              "             param_grid={'C': [0.01, 0.05, 0.5, 0.1, 1, 10, 15, 20],\n",
              "                         'gamma': [0.0001, 0.001, 0.01, 0.1]})"
            ]
          },
          "metadata": {},
          "execution_count": 22
        }
      ]
    },
    {
      "cell_type": "code",
      "source": [
        "grid_search.best_params_"
      ],
      "metadata": {
        "colab": {
          "base_uri": "https://localhost:8080/"
        },
        "id": "C91FBGfyE12I",
        "outputId": "e6525753-b736-447f-b28a-52334f6731c4"
      },
      "execution_count": 23,
      "outputs": [
        {
          "output_type": "execute_result",
          "data": {
            "text/plain": [
              "{'C': 20, 'gamma': 0.01}"
            ]
          },
          "metadata": {},
          "execution_count": 23
        }
      ]
    },
    {
      "cell_type": "code",
      "source": [
        "grid_search.best_score_"
      ],
      "metadata": {
        "colab": {
          "base_uri": "https://localhost:8080/"
        },
        "id": "406AbNluE5ao",
        "outputId": "7b22c5f3-3464-4a04-b987-bfb5285b94c2"
      },
      "execution_count": 24,
      "outputs": [
        {
          "output_type": "execute_result",
          "data": {
            "text/plain": [
              "0.9447784810126582"
            ]
          },
          "metadata": {},
          "execution_count": 24
        }
      ]
    },
    {
      "cell_type": "code",
      "source": [
        "svc = SVC(C = 15, gamma = 0.01)\n",
        "svc.fit(X_train, y_train)"
      ],
      "metadata": {
        "colab": {
          "base_uri": "https://localhost:8080/"
        },
        "id": "YWQmnCH7E79V",
        "outputId": "bcf87e86-c9a9-45eb-811a-0fdc5f6406a7"
      },
      "execution_count": 25,
      "outputs": [
        {
          "output_type": "execute_result",
          "data": {
            "text/plain": [
              "SVC(C=15, gamma=0.01)"
            ]
          },
          "metadata": {},
          "execution_count": 25
        }
      ]
    },
    {
      "cell_type": "code",
      "source": [
        "y_pred = svc.predict(X_test)"
      ],
      "metadata": {
        "id": "wjgcjCHRE-ry"
      },
      "execution_count": 26,
      "outputs": []
    },
    {
      "cell_type": "code",
      "source": [
        "# accuracy score\n",
        "\n",
        "print(accuracy_score(y_train, svc.predict(X_train)))\n",
        "\n",
        "svc_acc = accuracy_score(y_test, svc.predict(X_test))\n",
        "print(svc_acc)"
      ],
      "metadata": {
        "colab": {
          "base_uri": "https://localhost:8080/"
        },
        "id": "-7Ss59mkFCbD",
        "outputId": "86eddf5f-f4a7-4da5-b489-204ac92d51eb"
      },
      "execution_count": 27,
      "outputs": [
        {
          "output_type": "stream",
          "name": "stdout",
          "text": [
            "0.957286432160804\n",
            "0.9239766081871345\n"
          ]
        }
      ]
    },
    {
      "cell_type": "code",
      "source": [
        "# confusion matrix\n",
        "\n",
        "print(confusion_matrix(y_test, y_pred))"
      ],
      "metadata": {
        "colab": {
          "base_uri": "https://localhost:8080/"
        },
        "id": "a0vp6UROFG_O",
        "outputId": "8190eb25-5425-417b-8f1b-9f9cf4586d44"
      },
      "execution_count": 28,
      "outputs": [
        {
          "output_type": "stream",
          "name": "stdout",
          "text": [
            "[[103   5]\n",
            " [  8  55]]\n"
          ]
        }
      ]
    },
    {
      "cell_type": "code",
      "source": [
        "# classification report\n",
        "from sklearn.metrics import classification_report\n",
        "print(classification_report(y_test, y_pred))"
      ],
      "metadata": {
        "colab": {
          "base_uri": "https://localhost:8080/"
        },
        "id": "QP2Us1VRFJi3",
        "outputId": "974f98d8-e084-4e95-ded8-d321183e3f1d"
      },
      "execution_count": 29,
      "outputs": [
        {
          "output_type": "stream",
          "name": "stdout",
          "text": [
            "              precision    recall  f1-score   support\n",
            "\n",
            "           0       0.93      0.95      0.94       108\n",
            "           1       0.92      0.87      0.89        63\n",
            "\n",
            "    accuracy                           0.92       171\n",
            "   macro avg       0.92      0.91      0.92       171\n",
            "weighted avg       0.92      0.92      0.92       171\n",
            "\n"
          ]
        }
      ]
    },
    {
      "cell_type": "markdown",
      "source": [
        "4.3.3)  ANN (neural network )"
      ],
      "metadata": {
        "id": "p7ssexrtFhbX"
      }
    },
    {
      "cell_type": "code",
      "source": [
        "np.random.seed(42)\n",
        "import tensorflow as tf\n",
        "\n",
        "# Initialising the ANN\n",
        "\n",
        "ann = tf.keras.models.Sequential()\n",
        "\n",
        "# Adding the input layer and the first hidden layer\n",
        "\n",
        "ann.add(tf.keras.layers.Dense(units = 7, activation = 'relu'))\n",
        "\n",
        "# Adding the second hidden layer\n",
        "\n",
        "ann.add(tf.keras.layers.Dense(units = 7, activation = 'relu'))\n",
        "# Adding the third hidden layer\n",
        "\n",
        "ann.add(tf.keras.layers.Dense(units = 7, activation = 'relu'))\n",
        "\n",
        "# Adding the fourth hidden layer\n",
        "\n",
        "ann.add(tf.keras.layers.Dense(units = 7, activation = 'relu'))\n",
        "\n",
        "# Adding the output layer\n",
        "\n",
        "ann.add(tf.keras.layers.Dense(units = 1, activation = 'sigmoid'))\n",
        "# Compiling the ANN\n",
        "\n",
        "ann.compile(optimizer = 'adam', loss = 'binary_crossentropy' , metrics = ['accuracy'] )\n",
        "\n",
        "# Training the ANN on the training set\n",
        "\n",
        "ann.fit(X_train, y_train, batch_size = 16, epochs = 100)"
      ],
      "metadata": {
        "id": "aVTl_GvUFtXS",
        "colab": {
          "base_uri": "https://localhost:8080/"
        },
        "outputId": "a9f6f558-acad-42c8-fafb-423baa490f0b"
      },
      "execution_count": 30,
      "outputs": [
        {
          "output_type": "stream",
          "name": "stdout",
          "text": [
            "Epoch 1/100\n",
            "25/25 [==============================] - 1s 2ms/step - loss: 0.6900 - accuracy: 0.4824\n",
            "Epoch 2/100\n",
            "25/25 [==============================] - 0s 2ms/step - loss: 0.6514 - accuracy: 0.6859\n",
            "Epoch 3/100\n",
            "25/25 [==============================] - 0s 2ms/step - loss: 0.6124 - accuracy: 0.7412\n",
            "Epoch 4/100\n",
            "25/25 [==============================] - 0s 2ms/step - loss: 0.5635 - accuracy: 0.7563\n",
            "Epoch 5/100\n",
            "25/25 [==============================] - 0s 2ms/step - loss: 0.5009 - accuracy: 0.7940\n",
            "Epoch 6/100\n",
            "25/25 [==============================] - 0s 2ms/step - loss: 0.4385 - accuracy: 0.8317\n",
            "Epoch 7/100\n",
            "25/25 [==============================] - 0s 3ms/step - loss: 0.3859 - accuracy: 0.8417\n",
            "Epoch 8/100\n",
            "25/25 [==============================] - 0s 2ms/step - loss: 0.3465 - accuracy: 0.8568\n",
            "Epoch 9/100\n",
            "25/25 [==============================] - 0s 2ms/step - loss: 0.3181 - accuracy: 0.8668\n",
            "Epoch 10/100\n",
            "25/25 [==============================] - 0s 2ms/step - loss: 0.2980 - accuracy: 0.8744\n",
            "Epoch 11/100\n",
            "25/25 [==============================] - 0s 2ms/step - loss: 0.2814 - accuracy: 0.8794\n",
            "Epoch 12/100\n",
            "25/25 [==============================] - 0s 3ms/step - loss: 0.2621 - accuracy: 0.8920\n",
            "Epoch 13/100\n",
            "25/25 [==============================] - 0s 3ms/step - loss: 0.2489 - accuracy: 0.8995\n",
            "Epoch 14/100\n",
            "25/25 [==============================] - 0s 2ms/step - loss: 0.2365 - accuracy: 0.8995\n",
            "Epoch 15/100\n",
            "25/25 [==============================] - 0s 2ms/step - loss: 0.2265 - accuracy: 0.9020\n",
            "Epoch 16/100\n",
            "25/25 [==============================] - 0s 2ms/step - loss: 0.2170 - accuracy: 0.9070\n",
            "Epoch 17/100\n",
            "25/25 [==============================] - 0s 3ms/step - loss: 0.2077 - accuracy: 0.9146\n",
            "Epoch 18/100\n",
            "25/25 [==============================] - 0s 2ms/step - loss: 0.2022 - accuracy: 0.9171\n",
            "Epoch 19/100\n",
            "25/25 [==============================] - 0s 2ms/step - loss: 0.1956 - accuracy: 0.9171\n",
            "Epoch 20/100\n",
            "25/25 [==============================] - 0s 2ms/step - loss: 0.1879 - accuracy: 0.9221\n",
            "Epoch 21/100\n",
            "25/25 [==============================] - 0s 2ms/step - loss: 0.1810 - accuracy: 0.9271\n",
            "Epoch 22/100\n",
            "25/25 [==============================] - 0s 2ms/step - loss: 0.1726 - accuracy: 0.9296\n",
            "Epoch 23/100\n",
            "25/25 [==============================] - 0s 2ms/step - loss: 0.1664 - accuracy: 0.9271\n",
            "Epoch 24/100\n",
            "25/25 [==============================] - 0s 2ms/step - loss: 0.1620 - accuracy: 0.9322\n",
            "Epoch 25/100\n",
            "25/25 [==============================] - 0s 2ms/step - loss: 0.1566 - accuracy: 0.9422\n",
            "Epoch 26/100\n",
            "25/25 [==============================] - 0s 2ms/step - loss: 0.1529 - accuracy: 0.9422\n",
            "Epoch 27/100\n",
            "25/25 [==============================] - 0s 2ms/step - loss: 0.1502 - accuracy: 0.9497\n",
            "Epoch 28/100\n",
            "25/25 [==============================] - 0s 2ms/step - loss: 0.1466 - accuracy: 0.9497\n",
            "Epoch 29/100\n",
            "25/25 [==============================] - 0s 2ms/step - loss: 0.1432 - accuracy: 0.9497\n",
            "Epoch 30/100\n",
            "25/25 [==============================] - 0s 2ms/step - loss: 0.1445 - accuracy: 0.9447\n",
            "Epoch 31/100\n",
            "25/25 [==============================] - 0s 2ms/step - loss: 0.1370 - accuracy: 0.9472\n",
            "Epoch 32/100\n",
            "25/25 [==============================] - 0s 2ms/step - loss: 0.1350 - accuracy: 0.9497\n",
            "Epoch 33/100\n",
            "25/25 [==============================] - 0s 2ms/step - loss: 0.1321 - accuracy: 0.9497\n",
            "Epoch 34/100\n",
            "25/25 [==============================] - 0s 2ms/step - loss: 0.1294 - accuracy: 0.9497\n",
            "Epoch 35/100\n",
            "25/25 [==============================] - 0s 2ms/step - loss: 0.1280 - accuracy: 0.9548\n",
            "Epoch 36/100\n",
            "25/25 [==============================] - 0s 2ms/step - loss: 0.1259 - accuracy: 0.9497\n",
            "Epoch 37/100\n",
            "25/25 [==============================] - 0s 2ms/step - loss: 0.1237 - accuracy: 0.9573\n",
            "Epoch 38/100\n",
            "25/25 [==============================] - 0s 3ms/step - loss: 0.1218 - accuracy: 0.9573\n",
            "Epoch 39/100\n",
            "25/25 [==============================] - 0s 2ms/step - loss: 0.1206 - accuracy: 0.9548\n",
            "Epoch 40/100\n",
            "25/25 [==============================] - 0s 2ms/step - loss: 0.1195 - accuracy: 0.9548\n",
            "Epoch 41/100\n",
            "25/25 [==============================] - 0s 3ms/step - loss: 0.1163 - accuracy: 0.9573\n",
            "Epoch 42/100\n",
            "25/25 [==============================] - 0s 2ms/step - loss: 0.1152 - accuracy: 0.9573\n",
            "Epoch 43/100\n",
            "25/25 [==============================] - 0s 2ms/step - loss: 0.1151 - accuracy: 0.9598\n",
            "Epoch 44/100\n",
            "25/25 [==============================] - 0s 2ms/step - loss: 0.1141 - accuracy: 0.9598\n",
            "Epoch 45/100\n",
            "25/25 [==============================] - 0s 2ms/step - loss: 0.1114 - accuracy: 0.9623\n",
            "Epoch 46/100\n",
            "25/25 [==============================] - 0s 2ms/step - loss: 0.1126 - accuracy: 0.9623\n",
            "Epoch 47/100\n",
            "25/25 [==============================] - 0s 2ms/step - loss: 0.1116 - accuracy: 0.9623\n",
            "Epoch 48/100\n",
            "25/25 [==============================] - 0s 2ms/step - loss: 0.1110 - accuracy: 0.9623\n",
            "Epoch 49/100\n",
            "25/25 [==============================] - 0s 2ms/step - loss: 0.1072 - accuracy: 0.9623\n",
            "Epoch 50/100\n",
            "25/25 [==============================] - 0s 3ms/step - loss: 0.1056 - accuracy: 0.9673\n",
            "Epoch 51/100\n",
            "25/25 [==============================] - 0s 4ms/step - loss: 0.1052 - accuracy: 0.9648\n",
            "Epoch 52/100\n",
            "25/25 [==============================] - 0s 3ms/step - loss: 0.1042 - accuracy: 0.9673\n",
            "Epoch 53/100\n",
            "25/25 [==============================] - 0s 3ms/step - loss: 0.1046 - accuracy: 0.9648\n",
            "Epoch 54/100\n",
            "25/25 [==============================] - 0s 4ms/step - loss: 0.1027 - accuracy: 0.9673\n",
            "Epoch 55/100\n",
            "25/25 [==============================] - 0s 3ms/step - loss: 0.1030 - accuracy: 0.9648\n",
            "Epoch 56/100\n",
            "25/25 [==============================] - 0s 3ms/step - loss: 0.1011 - accuracy: 0.9648\n",
            "Epoch 57/100\n",
            "25/25 [==============================] - 0s 3ms/step - loss: 0.1017 - accuracy: 0.9698\n",
            "Epoch 58/100\n",
            "25/25 [==============================] - 0s 4ms/step - loss: 0.1000 - accuracy: 0.9673\n",
            "Epoch 59/100\n",
            "25/25 [==============================] - 0s 4ms/step - loss: 0.1002 - accuracy: 0.9673\n",
            "Epoch 60/100\n",
            "25/25 [==============================] - 0s 3ms/step - loss: 0.1001 - accuracy: 0.9724\n",
            "Epoch 61/100\n",
            "25/25 [==============================] - 0s 3ms/step - loss: 0.0999 - accuracy: 0.9673\n",
            "Epoch 62/100\n",
            "25/25 [==============================] - 0s 3ms/step - loss: 0.0988 - accuracy: 0.9724\n",
            "Epoch 63/100\n",
            "25/25 [==============================] - 0s 3ms/step - loss: 0.0975 - accuracy: 0.9698\n",
            "Epoch 64/100\n",
            "25/25 [==============================] - 0s 3ms/step - loss: 0.0967 - accuracy: 0.9724\n",
            "Epoch 65/100\n",
            "25/25 [==============================] - 0s 3ms/step - loss: 0.0978 - accuracy: 0.9724\n",
            "Epoch 66/100\n",
            "25/25 [==============================] - 0s 3ms/step - loss: 0.0971 - accuracy: 0.9749\n",
            "Epoch 67/100\n",
            "25/25 [==============================] - 0s 3ms/step - loss: 0.0956 - accuracy: 0.9673\n",
            "Epoch 68/100\n",
            "25/25 [==============================] - 0s 3ms/step - loss: 0.0962 - accuracy: 0.9724\n",
            "Epoch 69/100\n",
            "25/25 [==============================] - 0s 3ms/step - loss: 0.0949 - accuracy: 0.9724\n",
            "Epoch 70/100\n",
            "25/25 [==============================] - 0s 4ms/step - loss: 0.0950 - accuracy: 0.9724\n",
            "Epoch 71/100\n",
            "25/25 [==============================] - 0s 4ms/step - loss: 0.0943 - accuracy: 0.9749\n",
            "Epoch 72/100\n",
            "25/25 [==============================] - 0s 4ms/step - loss: 0.0934 - accuracy: 0.9749\n",
            "Epoch 73/100\n",
            "25/25 [==============================] - 0s 3ms/step - loss: 0.0941 - accuracy: 0.9724\n",
            "Epoch 74/100\n",
            "25/25 [==============================] - 0s 3ms/step - loss: 0.0923 - accuracy: 0.9749\n",
            "Epoch 75/100\n",
            "25/25 [==============================] - 0s 4ms/step - loss: 0.0929 - accuracy: 0.9724\n",
            "Epoch 76/100\n",
            "25/25 [==============================] - 0s 3ms/step - loss: 0.0920 - accuracy: 0.9724\n",
            "Epoch 77/100\n",
            "25/25 [==============================] - 0s 3ms/step - loss: 0.0930 - accuracy: 0.9698\n",
            "Epoch 78/100\n",
            "25/25 [==============================] - 0s 3ms/step - loss: 0.0906 - accuracy: 0.9724\n",
            "Epoch 79/100\n",
            "25/25 [==============================] - 0s 3ms/step - loss: 0.0908 - accuracy: 0.9749\n",
            "Epoch 80/100\n",
            "25/25 [==============================] - 0s 2ms/step - loss: 0.0919 - accuracy: 0.9724\n",
            "Epoch 81/100\n",
            "25/25 [==============================] - 0s 2ms/step - loss: 0.0895 - accuracy: 0.9774\n",
            "Epoch 82/100\n",
            "25/25 [==============================] - 0s 3ms/step - loss: 0.0929 - accuracy: 0.9724\n",
            "Epoch 83/100\n",
            "25/25 [==============================] - 0s 2ms/step - loss: 0.0886 - accuracy: 0.9724\n",
            "Epoch 84/100\n",
            "25/25 [==============================] - 0s 3ms/step - loss: 0.0906 - accuracy: 0.9724\n",
            "Epoch 85/100\n",
            "25/25 [==============================] - 0s 2ms/step - loss: 0.0893 - accuracy: 0.9724\n",
            "Epoch 86/100\n",
            "25/25 [==============================] - 0s 2ms/step - loss: 0.0891 - accuracy: 0.9749\n",
            "Epoch 87/100\n",
            "25/25 [==============================] - 0s 3ms/step - loss: 0.0887 - accuracy: 0.9724\n",
            "Epoch 88/100\n",
            "25/25 [==============================] - 0s 2ms/step - loss: 0.0869 - accuracy: 0.9774\n",
            "Epoch 89/100\n",
            "25/25 [==============================] - 0s 2ms/step - loss: 0.0875 - accuracy: 0.9749\n",
            "Epoch 90/100\n",
            "25/25 [==============================] - 0s 3ms/step - loss: 0.0868 - accuracy: 0.9749\n",
            "Epoch 91/100\n",
            "25/25 [==============================] - 0s 2ms/step - loss: 0.0885 - accuracy: 0.9749\n",
            "Epoch 92/100\n",
            "25/25 [==============================] - 0s 2ms/step - loss: 0.0867 - accuracy: 0.9774\n",
            "Epoch 93/100\n",
            "25/25 [==============================] - 0s 3ms/step - loss: 0.0850 - accuracy: 0.9774\n",
            "Epoch 94/100\n",
            "25/25 [==============================] - 0s 2ms/step - loss: 0.0860 - accuracy: 0.9749\n",
            "Epoch 95/100\n",
            "25/25 [==============================] - 0s 2ms/step - loss: 0.0854 - accuracy: 0.9724\n",
            "Epoch 96/100\n",
            "25/25 [==============================] - 0s 2ms/step - loss: 0.0876 - accuracy: 0.9724\n",
            "Epoch 97/100\n",
            "25/25 [==============================] - 0s 2ms/step - loss: 0.0841 - accuracy: 0.9774\n",
            "Epoch 98/100\n",
            "25/25 [==============================] - 0s 3ms/step - loss: 0.0836 - accuracy: 0.9749\n",
            "Epoch 99/100\n",
            "25/25 [==============================] - 0s 2ms/step - loss: 0.0856 - accuracy: 0.9724\n",
            "Epoch 100/100\n",
            "25/25 [==============================] - 0s 2ms/step - loss: 0.0837 - accuracy: 0.9749\n"
          ]
        },
        {
          "output_type": "execute_result",
          "data": {
            "text/plain": [
              "<keras.callbacks.History at 0x7f6b41e55f90>"
            ]
          },
          "metadata": {},
          "execution_count": 30
        }
      ]
    },
    {
      "cell_type": "code",
      "source": [
        "# Predicting the test set results\n",
        "\n",
        "y_pred = ann.predict(X_test)\n",
        "y_pred = (y_pred > 0.9)\n",
        "np.set_printoptions()"
      ],
      "metadata": {
        "id": "p7RQhxJjF3if"
      },
      "execution_count": 31,
      "outputs": []
    },
    {
      "cell_type": "code",
      "source": [
        "# Making the confusion matrix, calculating accuracy_score \n",
        "\n",
        "from sklearn.metrics import confusion_matrix, accuracy_score\n",
        "\n",
        "# confusion matrix\n",
        "cm = confusion_matrix(y_test,y_pred)\n",
        "print(\"Confusion Matrix\")\n",
        "print(cm)"
      ],
      "metadata": {
        "colab": {
          "base_uri": "https://localhost:8080/"
        },
        "id": "47O4GG_PF9IO",
        "outputId": "e912c325-547f-475c-e281-4cb4ff33d4dd"
      },
      "execution_count": 32,
      "outputs": [
        {
          "output_type": "stream",
          "name": "stdout",
          "text": [
            "Confusion Matrix\n",
            "[[104   4]\n",
            " [ 14  49]]\n"
          ]
        }
      ]
    },
    {
      "cell_type": "code",
      "source": [
        "# accuracy\n",
        "ac_ann = accuracy_score(y_test,y_pred)\n",
        "print(\"Accuracy\")\n",
        "print(ac_ann)"
      ],
      "metadata": {
        "colab": {
          "base_uri": "https://localhost:8080/"
        },
        "id": "6RY0ZyvcGAZ_",
        "outputId": "4da1ccfd-eda0-4b02-e7a6-59c8e181ec1e"
      },
      "execution_count": 33,
      "outputs": [
        {
          "output_type": "stream",
          "name": "stdout",
          "text": [
            "Accuracy\n",
            "0.8947368421052632\n"
          ]
        }
      ]
    },
    {
      "cell_type": "markdown",
      "source": [
        "4.3.4) Les forêts aléatoires (Random Forests)"
      ],
      "metadata": {
        "id": "UMyRXhF4GZm8"
      }
    },
    {
      "cell_type": "code",
      "source": [
        "from sklearn.ensemble import RandomForestClassifier\n",
        "\n",
        "rand_clf = RandomForestClassifier(criterion = 'entropy', max_depth = 11, max_features = 'auto', min_samples_leaf = 2, min_samples_split = 3, n_estimators = 130)\n",
        "rand_clf.fit(X_train, y_train)"
      ],
      "metadata": {
        "colab": {
          "base_uri": "https://localhost:8080/"
        },
        "id": "SxSRKudoGn5-",
        "outputId": "11a60745-bd7c-46ac-fefc-ffd2da57e053"
      },
      "execution_count": 34,
      "outputs": [
        {
          "output_type": "execute_result",
          "data": {
            "text/plain": [
              "RandomForestClassifier(criterion='entropy', max_depth=11, min_samples_leaf=2,\n",
              "                       min_samples_split=3, n_estimators=130)"
            ]
          },
          "metadata": {},
          "execution_count": 34
        }
      ]
    },
    {
      "cell_type": "code",
      "source": [
        "y_pred = rand_clf.predict(X_test)"
      ],
      "metadata": {
        "id": "eelsrunBGwu_"
      },
      "execution_count": 35,
      "outputs": []
    },
    {
      "cell_type": "code",
      "source": [
        "# accuracy score\n",
        "\n",
        "print(accuracy_score(y_train, rand_clf.predict(X_train)))\n",
        "\n",
        "ran_clf_acc = accuracy_score(y_test, y_pred)\n",
        "print(ran_clf_acc)"
      ],
      "metadata": {
        "colab": {
          "base_uri": "https://localhost:8080/"
        },
        "id": "51NpwWVKGyBl",
        "outputId": "d27203ba-ab14-4f62-fa63-cde53030c000"
      },
      "execution_count": 36,
      "outputs": [
        {
          "output_type": "stream",
          "name": "stdout",
          "text": [
            "0.9899497487437185\n",
            "0.9298245614035088\n"
          ]
        }
      ]
    },
    {
      "cell_type": "code",
      "source": [
        "# confusion matrix\n",
        "\n",
        "print(confusion_matrix(y_test, y_pred))"
      ],
      "metadata": {
        "colab": {
          "base_uri": "https://localhost:8080/"
        },
        "id": "BrD8GMapG094",
        "outputId": "be138093-bd5f-4695-c327-8594f053c60f"
      },
      "execution_count": 37,
      "outputs": [
        {
          "output_type": "stream",
          "name": "stdout",
          "text": [
            "[[103   5]\n",
            " [  7  56]]\n"
          ]
        }
      ]
    },
    {
      "cell_type": "markdown",
      "source": [
        "4.3.5) Support vector Machine "
      ],
      "metadata": {
        "id": "KwYGas1SHGdX"
      }
    },
    {
      "cell_type": "code",
      "source": [
        "from sklearn.svm import SVC\n",
        "\n",
        "svc_model = SVC(kernel=\"rbf\")\n",
        "svc_model.fit(X_train, y_train)\n",
        "predictions3 = svc_model.predict(X_test)"
      ],
      "metadata": {
        "id": "CTT5cEcsHWMz"
      },
      "execution_count": 38,
      "outputs": []
    },
    {
      "cell_type": "code",
      "source": [
        "print(\"Confusion Matrix: \\n\", confusion_matrix(y_test, predictions3))\n",
        "print(\"\\n\")\n",
        "print(classification_report(y_test, predictions3))"
      ],
      "metadata": {
        "colab": {
          "base_uri": "https://localhost:8080/"
        },
        "id": "TWgEj3sWHaNR",
        "outputId": "268b9176-301d-40df-e31b-7675ab957809"
      },
      "execution_count": 39,
      "outputs": [
        {
          "output_type": "stream",
          "name": "stdout",
          "text": [
            "Confusion Matrix: \n",
            " [[103   5]\n",
            " [ 10  53]]\n",
            "\n",
            "\n",
            "              precision    recall  f1-score   support\n",
            "\n",
            "           0       0.91      0.95      0.93       108\n",
            "           1       0.91      0.84      0.88        63\n",
            "\n",
            "    accuracy                           0.91       171\n",
            "   macro avg       0.91      0.90      0.90       171\n",
            "weighted avg       0.91      0.91      0.91       171\n",
            "\n"
          ]
        }
      ]
    },
    {
      "cell_type": "code",
      "source": [
        "svm_acc = accuracy_score(y_test, predictions3)\n",
        "print(\"Accuracy of SVM model is: \", svm_acc)"
      ],
      "metadata": {
        "colab": {
          "base_uri": "https://localhost:8080/"
        },
        "id": "IW9aj3NGHdxp",
        "outputId": "1a0fdc30-f338-4bed-fc2f-43e97b5a8b3c"
      },
      "execution_count": 40,
      "outputs": [
        {
          "output_type": "stream",
          "name": "stdout",
          "text": [
            "Accuracy of SVM model is:  0.9122807017543859\n"
          ]
        }
      ]
    },
    {
      "cell_type": "markdown",
      "source": [
        "# 5. Benchmark des différents modèles"
      ],
      "metadata": {
        "id": "A4spwnlJHrDq"
      }
    },
    {
      "cell_type": "markdown",
      "source": [
        "5.1 Visualisation de différents resultats"
      ],
      "metadata": {
        "id": "BLTkGZyvHy9w"
      }
    },
    {
      "cell_type": "code",
      "source": [
        "mylist=[]\n",
        "mylist2=[]\n",
        "mylist.append(svc_acc)\n",
        "mylist2.append(\"SVC\")\n",
        "mylist.append(svc_acc)\n",
        "mylist2.append(\"SVC\")\n",
        "mylist.append(logreg_acc)\n",
        "mylist2.append(\"Logistic Regression\")\n",
        "mylist.append(ran_clf_acc)\n",
        "mylist2.append(\"Random Forests\")\n",
        "mylist.append(svm_acc)\n",
        "mylist2.append(\"Support Vector Machines\")\n",
        "mylist.append(ac_ann)\n",
        "mylist2.append(\"ANN\")\n",
        "plt.rcParams['figure.figsize']=22,10\n",
        "sns.set_style(\"darkgrid\")\n",
        "ax = sns.barplot(x=mylist2, y=mylist, palette = \"coolwarm\", saturation =1.5)\n",
        "plt.xlabel(\"Classification Models\", fontsize = 20 )\n",
        "plt.ylabel(\"Accuracy\", fontsize = 20)\n",
        "plt.title(\"Accuracy of different Classification Models\", fontsize = 20)\n",
        "plt.xticks(fontsize = 11, horizontalalignment = 'center', rotation = 8)\n",
        "plt.yticks(fontsize = 13)\n",
        "for p in ax.patches:\n",
        "    width, height = p.get_width(), p.get_height()\n",
        "    x, y = p.get_xy() \n",
        "    ax.annotate(f'{height:.2%}', (x + width/2, y + height*1.02), ha='center', fontsize = 'x-large')\n",
        "plt.show()"
      ],
      "metadata": {
        "colab": {
          "base_uri": "https://localhost:8080/",
          "height": 519
        },
        "id": "A7u0YN7qH_kv",
        "outputId": "ad2d35ee-db33-48bd-8c1f-38315b5865e6"
      },
      "execution_count": 41,
      "outputs": [
        {
          "output_type": "display_data",
          "data": {
            "text/plain": [
              "<Figure size 1584x720 with 1 Axes>"
            ],
            "image/png": "[encoded data removed]"
          },
          "metadata": {}
        }
      ]
    },
    {
      "cell_type": "markdown",
      "source": [
        "Le meilleur modèle  en terme d'accuracy est le SVC"
      ],
      "metadata": {
        "id": "CG26i41pIL00"
      }
    },
    {
      "cell_type": "markdown",
      "source": [
        "**Testons les performances du SVC**"
      ],
      "metadata": {
        "id": "OidVirZ8ItgV"
      }
    },
    {
      "cell_type": "markdown",
      "source": [
        "# Sauvegarde et importation de notre modèle"
      ],
      "metadata": {
        "id": "hP_fQvjYSGAm"
      }
    },
    {
      "cell_type": "code",
      "source": [
        "import pickle"
      ],
      "metadata": {
        "id": "N1nuN6YUSpGo"
      },
      "execution_count": 42,
      "outputs": []
    },
    {
      "cell_type": "markdown",
      "source": [
        "**Enregistrer mon modèle**"
      ],
      "metadata": {
        "id": "euLvSGAdTCsS"
      }
    },
    {
      "cell_type": "code",
      "source": [
        "df.head()"
      ],
      "metadata": {
        "colab": {
          "base_uri": "https://localhost:8080/",
          "height": 288
        },
        "id": "XOaDMOZyed1G",
        "outputId": "acc69eba-07f7-4d21-c7f8-ad396f388b04"
      },
      "execution_count": 43,
      "outputs": [
        {
          "output_type": "execute_result",
          "data": {
            "text/plain": [
              "   diagnosis  texture_se  smoothness_se  symmetry_se  fractal_dimension_se  \\\n",
              "0          1      0.9053       0.006399      0.03003              0.006193   \n",
              "1          1      0.7339       0.005225      0.01389              0.003532   \n",
              "2          1      0.7869       0.006150      0.02250              0.004571   \n",
              "3          1      1.1560       0.009110      0.05963              0.009208   \n",
              "4          1      0.7813       0.011490      0.01756              0.005115   \n",
              "\n",
              "   texture_worst  concave points_worst  symmetry_worst  \\\n",
              "0          17.33                0.2654          0.4601   \n",
              "1          23.41                0.1860          0.2750   \n",
              "2          25.53                0.2430          0.3613   \n",
              "3          26.50                0.2575          0.6638   \n",
              "4          16.67                0.1625          0.2364   \n",
              "\n",
              "   fractal_dimension_worst  \n",
              "0                  0.11890  \n",
              "1                  0.08902  \n",
              "2                  0.08758  \n",
              "3                  0.17300  \n",
              "4                  0.07678  "
            ],
            "text/html": [
              "\n",
              "  <div id=\"df-236979b2-9850-44e3-bfaa-60e2fc981ec2\">\n",
              "    <div class=\"colab-df-container\">\n",
              "      <div>\n",
              "<style scoped>\n",
              "    .dataframe tbody tr th:only-of-type {\n",
              "        vertical-align: middle;\n",
              "    }\n",
              "\n",
              "    .dataframe tbody tr th {\n",
              "        vertical-align: top;\n",
              "    }\n",
              "\n",
              "    .dataframe thead th {\n",
              "        text-align: right;\n",
              "    }\n",
              "</style>\n",
              "<table border=\"1\" class=\"dataframe\">\n",
              "  <thead>\n",
              "    <tr style=\"text-align: right;\">\n",
              "      <th></th>\n",
              "      <th>diagnosis</th>\n",
              "      <th>texture_se</th>\n",
              "      <th>smoothness_se</th>\n",
              "      <th>symmetry_se</th>\n",
              "      <th>fractal_dimension_se</th>\n",
              "      <th>texture_worst</th>\n",
              "      <th>concave points_worst</th>\n",
              "      <th>symmetry_worst</th>\n",
              "      <th>fractal_dimension_worst</th>\n",
              "    </tr>\n",
              "  </thead>\n",
              "  <tbody>\n",
              "    <tr>\n",
              "      <th>0</th>\n",
              "      <td>1</td>\n",
              "      <td>0.9053</td>\n",
              "      <td>0.006399</td>\n",
              "      <td>0.03003</td>\n",
              "      <td>0.006193</td>\n",
              "      <td>17.33</td>\n",
              "      <td>0.2654</td>\n",
              "      <td>0.4601</td>\n",
              "      <td>0.11890</td>\n",
              "    </tr>\n",
              "    <tr>\n",
              "      <th>1</th>\n",
              "      <td>1</td>\n",
              "      <td>0.7339</td>\n",
              "      <td>0.005225</td>\n",
              "      <td>0.01389</td>\n",
              "      <td>0.003532</td>\n",
              "      <td>23.41</td>\n",
              "      <td>0.1860</td>\n",
              "      <td>0.2750</td>\n",
              "      <td>0.08902</td>\n",
              "    </tr>\n",
              "    <tr>\n",
              "      <th>2</th>\n",
              "      <td>1</td>\n",
              "      <td>0.7869</td>\n",
              "      <td>0.006150</td>\n",
              "      <td>0.02250</td>\n",
              "      <td>0.004571</td>\n",
              "      <td>25.53</td>\n",
              "      <td>0.2430</td>\n",
              "      <td>0.3613</td>\n",
              "      <td>0.08758</td>\n",
              "    </tr>\n",
              "    <tr>\n",
              "      <th>3</th>\n",
              "      <td>1</td>\n",
              "      <td>1.1560</td>\n",
              "      <td>0.009110</td>\n",
              "      <td>0.05963</td>\n",
              "      <td>0.009208</td>\n",
              "      <td>26.50</td>\n",
              "      <td>0.2575</td>\n",
              "      <td>0.6638</td>\n",
              "      <td>0.17300</td>\n",
              "    </tr>\n",
              "    <tr>\n",
              "      <th>4</th>\n",
              "      <td>1</td>\n",
              "      <td>0.7813</td>\n",
              "      <td>0.011490</td>\n",
              "      <td>0.01756</td>\n",
              "      <td>0.005115</td>\n",
              "      <td>16.67</td>\n",
              "      <td>0.1625</td>\n",
              "      <td>0.2364</td>\n",
              "      <td>0.07678</td>\n",
              "    </tr>\n",
              "  </tbody>\n",
              "</table>\n",
              "</div>\n",
              "      <button class=\"colab-df-convert\" onclick=\"convertToInteractive('df-236979b2-9850-44e3-bfaa-60e2fc981ec2')\"\n",
              "              title=\"Convert this dataframe to an interactive table.\"\n",
              "              style=\"display:none;\">\n",
              "        \n",
              "  <svg xmlns=\"http://www.w3.org/2000/svg\" height=\"24px\"viewBox=\"0 0 24 24\"\n",
              "       width=\"24px\">\n",
              "    <path d=\"M0 0h24v24H0V0z\" fill=\"none\"/>\n",
              "    <path d=\"M18.56 5.44l.94 2.06.94-2.06 2.06-.94-2.06-.94-.94-2.06-.94 2.06-2.06.94zm-11 1L8.5 8.5l.94-2.06 2.06-.94-2.06-.94L8.5 2.5l-.94 2.06-2.06.94zm10 10l.94 2.06.94-2.06 2.06-.94-2.06-.94-.94-2.06-.94 2.06-2.06.94z\"/><path d=\"M17.41 7.96l-1.37-1.37c-.4-.4-.92-.59-1.43-.59-.52 0-1.04.2-1.43.59L10.3 9.45l-7.72 7.72c-.78.78-.78 2.05 0 2.83L4 21.41c.39.39.9.59 1.41.59.51 0 1.02-.2 1.41-.59l7.78-7.78 2.81-2.81c.8-.78.8-2.07 0-2.86zM5.41 20L4 18.59l7.72-7.72 1.47 1.35L5.41 20z\"/>\n",
              "  </svg>\n",
              "      </button>\n",
              "      \n",
              "  <style>\n",
              "    .colab-df-container {\n",
              "      display:flex;\n",
              "      flex-wrap:wrap;\n",
              "      gap: 12px;\n",
              "    }\n",
              "\n",
              "    .colab-df-convert {\n",
              "      background-color: #E8F0FE;\n",
              "      border: none;\n",
              "      border-radius: 50%;\n",
              "      cursor: pointer;\n",
              "      display: none;\n",
              "      fill: #1967D2;\n",
              "      height: 32px;\n",
              "      padding: 0 0 0 0;\n",
              "      width: 32px;\n",
              "    }\n",
              "\n",
              "    .colab-df-convert:hover {\n",
              "      background-color: #E2EBFA;\n",
              "      box-shadow: 0px 1px 2px rgba(60, 64, 67, 0.3), 0px 1px 3px 1px rgba(60, 64, 67, 0.15);\n",
              "      fill: #174EA6;\n",
              "    }\n",
              "\n",
              "    [theme=dark] .colab-df-convert {\n",
              "      background-color: #3B4455;\n",
              "      fill: #D2E3FC;\n",
              "    }\n",
              "\n",
              "    [theme=dark] .colab-df-convert:hover {\n",
              "      background-color: #434B5C;\n",
              "      box-shadow: 0px 1px 3px 1px rgba(0, 0, 0, 0.15);\n",
              "      filter: drop-shadow(0px 1px 2px rgba(0, 0, 0, 0.3));\n",
              "      fill: #FFFFFF;\n",
              "    }\n",
              "  </style>\n",
              "\n",
              "      <script>\n",
              "        const buttonEl =\n",
              "          document.querySelector('#df-236979b2-9850-44e3-bfaa-60e2fc981ec2 button.colab-df-convert');\n",
              "        buttonEl.style.display =\n",
              "          google.colab.kernel.accessAllowed ? 'block' : 'none';\n",
              "\n",
              "        async function convertToInteractive(key) {\n",
              "          const element = document.querySelector('#df-236979b2-9850-44e3-bfaa-60e2fc981ec2');\n",
              "          const dataTable =\n",
              "            await google.colab.kernel.invokeFunction('convertToInteractive',\n",
              "                                                     [key], {});\n",
              "          if (!dataTable) return;\n",
              "\n",
              "          const docLinkHtml = 'Like what you see? Visit the ' +\n",
              "            '<a target=\"_blank\" href=https://colab.research.google.com/notebooks/data_table.ipynb>data table notebook</a>'\n",
              "            + ' to learn more about interactive tables.';\n",
              "          element.innerHTML = '';\n",
              "          dataTable['output_type'] = 'display_data';\n",
              "          await google.colab.output.renderOutput(dataTable, element);\n",
              "          const docLink = document.createElement('div');\n",
              "          docLink.innerHTML = docLinkHtml;\n",
              "          element.appendChild(docLink);\n",
              "        }\n",
              "      </script>\n",
              "    </div>\n",
              "  </div>\n",
              "  "
            ]
          },
          "metadata": {},
          "execution_count": 43
        }
      ]
    },
    {
      "cell_type": "code",
      "source": [
        "filename = 'trained_model.sav'\n",
        "pickle.dump(svc, open(filename, 'wb'))"
      ],
      "metadata": {
        "id": "9S3YrqqVTIEX"
      },
      "execution_count": 44,
      "outputs": []
    },
    {
      "cell_type": "code",
      "source": [
        "loaded_model = pickle.load(open('trained_model.sav', 'rb'))"
      ],
      "metadata": {
        "id": "ZhQnvmJyxgIu"
      },
      "execution_count": 45,
      "outputs": []
    },
    {
      "cell_type": "code",
      "source": [
        "input_data = (0.7452,1003,0.1,0.002897,23.87,0.22,0.2908,0.07277)\n",
        "input_data_as_numpy_array = np.asarray(input_data)\n",
        "input_data_reshaped = input_data_as_numpy_array.reshape(1,-1)\n",
        "prediction = loaded_model.predict(input_data_reshaped)\n",
        "print(prediction)\n",
        "\n",
        "if (prediction[0] == 0):\n",
        "  print('La personne a un cancer benigne')\n",
        "else:\n",
        "  print('La personne a un cancer maligne')\n"
      ],
      "metadata": {
        "colab": {
          "base_uri": "https://localhost:8080/"
        },
        "id": "GCic7zrAj3fg",
        "outputId": "e7818ff4-582f-48ad-a24b-d638e10ef1f6"
      },
      "execution_count": 46,
      "outputs": [
        {
          "output_type": "stream",
          "name": "stdout",
          "text": [
            "[1]\n",
            "La personne a un cancer maligne\n"
          ]
        }
      ]
    }
  ]
}